{
 "cells": [
  {
   "cell_type": "code",
   "execution_count": 1,
   "metadata": {},
   "outputs": [],
   "source": [
    "import torch\n",
    "import torchvision\n",
    "from torch.autograd import Variable\n",
    "import torch.nn as nn\n",
    "import torch.nn.functional as F\n",
    "import math"
   ]
  },
  {
   "cell_type": "code",
   "execution_count": 2,
   "metadata": {},
   "outputs": [],
   "source": [
    "import torch.optim as optim"
   ]
  },
  {
   "cell_type": "code",
   "execution_count": 3,
   "metadata": {},
   "outputs": [],
   "source": [
    "import matplotlib.pyplot as plt"
   ]
  },
  {
   "cell_type": "code",
   "execution_count": 16,
   "metadata": {},
   "outputs": [],
   "source": [
    "class ConvAutoEncoder(nn.Module):\n",
    "    def __init__(self,\n",
    "                 input_size=(3,32,32),\n",
    "                 layers_num=2,\n",
    "                 conv_out_channels=(6, 6),\n",
    "                 conv_kernel_size=(2, 3),\n",
    "                 conv_stride=(2, 2),\n",
    "                 conv_padding=(0,0),\n",
    "                 activ_func=(F.relu, F.relu),\n",
    "                 pool_kernel_size=(2, 1),\n",
    "                 pool_stride=(1, 1),\n",
    "                 pool_padding=(0,0)):\n",
    "        self.input_size=input_size\n",
    "        self.layers_num=layers_num\n",
    "        self.conv_out_channels=conv_kernel_size\n",
    "        self.conv_kernel_size=conv_kernel_size\n",
    "        self.conv_stride=conv_stride\n",
    "        self.conv_padding=conv_padding\n",
    "        self.pool_kernel_size=pool_kernel_size\n",
    "        self.pool_stride=pool_stride\n",
    "        self.pool_padding=pool_padding\n",
    "        self.conv_layers = []\n",
    "        self.conv_layers_t = []\n",
    "        self.pool_layers = []\n",
    "        self.unpool_layers = []\n",
    "        for i in range(self.layers_num):\n",
    "            in_chan = self.input_size[0] if i==0 else self.conv_out_channels[i-1]\n",
    "            args = (in_chan, self.conv_out_channels[i], \\\n",
    "                    self.conv_kernel_size[i], self.conv_stride[i], self.conv_padding[i])\n",
    "            self.conv_layers = self.conv_layers + [nn.Conv2d(*args)]\n",
    "            args[0] = args[1]\n",
    "            args[1] = in_chan\n",
    "            self.conv_layers_t = [nn.Conv2d(*args)] + self.conv_layers_t\n",
    "            args = (self.pool_kernel_size, self.pool_stride, self.pool_padding)\n",
    "            self.pool_layers = self.pool_layers + [nn.MaxPool2d(args)]\n",
    "            self.unpool_layers = [nn.MaxUnpool2d(args)] + self.unpool_layers\n",
    "        self.conv_layers = nn.ModuleList([]).extend(self.conv_layers)\n",
    "        self.conv_layers_t = nn.ModuleList([]).extend(self.conv_layers_t)\n",
    "        self.pool_layers = nn.ModuleList([]).extend(self.pool_layers)\n",
    "        self.unpool_layers = nn.ModuleList([]).extend(self.unpool_layers)\n",
    "        self.mode_fl = \"learn\" # learn or encode\n",
    "    def forward(self,x):\n",
    "        for i in range(self.layers_num):\n",
    "            x = self.conv_layers[i](x)\n",
    "            x = activ_func[i](x)\n",
    "            x = self.pool_layers[i]\n",
    "        if self.mode_fl == \"encode\":\n",
    "            return x\n",
    "        for i in range(self.layers_num):\n",
    "            x = self.unpool_layers[i]\n",
    "            x = activ_func[-i-1](x)  \n",
    "            x = self.conv_layers_t[i](x)\n",
    "        return x"
   ]
  },
  {
   "cell_type": "code",
   "execution_count": 17,
   "metadata": {},
   "outputs": [],
   "source": [
    "class ConvNet(nn.Module):\n",
    "    def __init__(self,\n",
    "                 input_size=(3,32,32),\n",
    "                 class_num = 2,\n",
    "                 layers_num=2,\n",
    "                 conv_out_channels=(6, 6),\n",
    "                 conv_kernel_size=(2, 3),\n",
    "                 conv_stride=(2, 2),\n",
    "                 conv_padding=(0,0),\n",
    "                 activ_func=(F.relu, F.relu),\n",
    "                 pool_kernel_size=(2, 1),\n",
    "                 pool_stride=(1, 1),\n",
    "                 pool_padding=(0,0)):\n",
    "        super(ConvNet, self).__init__()\n",
    "        self.input_size=input_size\n",
    "        self.class_num = class_num\n",
    "        self.layers_num=layers_num\n",
    "        self.conv_out_channels=conv_out_channels\n",
    "        self.conv_kernel_size=conv_kernel_size\n",
    "        self.conv_stride=conv_stride\n",
    "        self.conv_padding=conv_padding\n",
    "        self.activ_func=activ_func\n",
    "        self.pool_kernel_size=pool_kernel_size\n",
    "        self.pool_stride=pool_stride\n",
    "        self.pool_padding=pool_padding\n",
    "        self.conv_layers = []\n",
    "        self.pool_layers = []\n",
    "        self.history = []\n",
    "        \n",
    "        for i in range(self.layers_num):\n",
    "            in_chan = self.input_size[0] if i==0 else self.conv_out_channels[i-1]\n",
    "            args = (in_chan, self.conv_out_channels[i], \\\n",
    "                    self.conv_kernel_size[i], self.conv_stride[i], self.conv_padding[i])\n",
    "            self.conv_layers = self.conv_layers + [nn.Conv2d(*args)]\n",
    "            args = (self.pool_kernel_size[i], self.pool_stride[i], self.pool_padding[i])\n",
    "            self.pool_layers = self.pool_layers + [nn.MaxPool2d(*args)]\n",
    "        self.conv_layers = nn.ModuleList([]).extend(self.conv_layers)\n",
    "        self.pool_layers = nn.ModuleList([]).extend(self.pool_layers)\n",
    "        \n",
    "        h_out = input_size[1]\n",
    "        self.layer_out_list = [input_size[1]**2*input_size[0]]\n",
    "        for i in range(self.layers_num):\n",
    "            c_out = self.conv_out_channels[i-1] if i-1>0 else self.input_size[0]\n",
    "            h_out = math.floor((h_out+2*self.conv_padding[i]-\\\n",
    "                                (self.conv_kernel_size[i]-1)-1)/self.conv_stride[i]+1)\n",
    "            h_out = math.floor((h_out+2*self.pool_padding[i]-\\\n",
    "                                (self.pool_kernel_size[i]-1)-1)/self.pool_stride[i]+1)\n",
    "            self.layer_out_list = self.layer_out_list + [h_out**2*self.conv_out_channels[i]]\n",
    "        self.linear_in=self.conv_out_channels[-1] * h_out**2\n",
    "        self.linear_layer = nn.Linear(self.linear_in, self.class_num)\n",
    "    def forward(self,x):\n",
    "        for i in range(self.layers_num):\n",
    "            x = self.conv_layers[i](x)\n",
    "            if self.activ_func:\n",
    "                x = self.activ_func[i](x)\n",
    "            x = self.pool_layers[i](x)\n",
    "        x = self.linear_layer(x.view(-1, self.linear_in))\n",
    "        return x"
   ]
  },
  {
   "cell_type": "markdown",
   "metadata": {},
   "source": [
    "## Task №1"
   ]
  },
  {
   "cell_type": "markdown",
   "metadata": {},
   "source": [
    "### Logistic regression Net"
   ]
  },
  {
   "cell_type": "code",
   "execution_count": 5,
   "metadata": {},
   "outputs": [],
   "source": [
    "net = ConvNet(class_num=10,layers_num=1,conv_out_channels=(4,),\\\n",
    "              conv_kernel_size=(5,),conv_stride=(1,),conv_padding=(0,),activ_func=(),\\\n",
    "              pool_kernel_size=(2,),pool_stride=(1,),pool_padding=(0,))"
   ]
  },
  {
   "cell_type": "code",
   "execution_count": 20,
   "metadata": {},
   "outputs": [],
   "source": [
    "transform = torchvision.transforms.Compose([torchvision.transforms.Resize((32,32),3),\\\n",
    "                                           torchvision.transforms.ToTensor(), \\\n",
    "                                           torchvision.transforms.Normalize((0.5,0.5,0.5),(0.5,0.5,0.5))])"
   ]
  },
  {
   "cell_type": "code",
   "execution_count": 21,
   "metadata": {},
   "outputs": [
    {
     "ename": "RuntimeError",
     "evalue": "Dataset not found or corrupted. You can use download=True to download it",
     "output_type": "error",
     "traceback": [
      "\u001b[0;31m---------------------------------------------------------------------------\u001b[0m",
      "\u001b[0;31mRuntimeError\u001b[0m                              Traceback (most recent call last)",
      "\u001b[0;32m<ipython-input-21-35b9271f7ce5>\u001b[0m in \u001b[0;36m<module>\u001b[0;34m()\u001b[0m\n\u001b[0;32m----> 1\u001b[0;31m \u001b[0mtrainset\u001b[0m \u001b[0;34m=\u001b[0m \u001b[0mtorchvision\u001b[0m\u001b[0;34m.\u001b[0m\u001b[0mdatasets\u001b[0m\u001b[0;34m.\u001b[0m\u001b[0mSTL10\u001b[0m\u001b[0;34m(\u001b[0m\u001b[0;34m'/media/alex/Windows8_OS/Ubuntu/python/sem_2'\u001b[0m\u001b[0;34m,\u001b[0m                           \u001b[0mtransform\u001b[0m\u001b[0;34m=\u001b[0m\u001b[0mtransform\u001b[0m\u001b[0;34m)\u001b[0m\u001b[0;34m\u001b[0m\u001b[0m\n\u001b[0m",
      "\u001b[0;32m/usr/local/lib/python3.5/dist-packages/torchvision/datasets/stl10.py\u001b[0m in \u001b[0;36m__init__\u001b[0;34m(self, root, split, transform, target_transform, download)\u001b[0m\n\u001b[1;32m     55\u001b[0m         \u001b[0;32mif\u001b[0m \u001b[0;32mnot\u001b[0m \u001b[0mself\u001b[0m\u001b[0;34m.\u001b[0m\u001b[0m_check_integrity\u001b[0m\u001b[0;34m(\u001b[0m\u001b[0;34m)\u001b[0m\u001b[0;34m:\u001b[0m\u001b[0;34m\u001b[0m\u001b[0m\n\u001b[1;32m     56\u001b[0m             raise RuntimeError(\n\u001b[0;32m---> 57\u001b[0;31m                 \u001b[0;34m'Dataset not found or corrupted. '\u001b[0m\u001b[0;34m\u001b[0m\u001b[0m\n\u001b[0m\u001b[1;32m     58\u001b[0m                 'You can use download=True to download it')\n\u001b[1;32m     59\u001b[0m \u001b[0;34m\u001b[0m\u001b[0m\n",
      "\u001b[0;31mRuntimeError\u001b[0m: Dataset not found or corrupted. You can use download=True to download it"
     ]
    }
   ],
   "source": [
    "trainset = torchvision.datasets.STL10('/media/alex/Windows8_OS/Ubuntu/python/sem_2',\\\n",
    "                           transform=transform)"
   ]
  },
  {
   "cell_type": "code",
   "execution_count": 22,
   "metadata": {},
   "outputs": [
    {
     "ename": "NameError",
     "evalue": "name 'trainset' is not defined",
     "output_type": "error",
     "traceback": [
      "\u001b[0;31m---------------------------------------------------------------------------\u001b[0m",
      "\u001b[0;31mNameError\u001b[0m                                 Traceback (most recent call last)",
      "\u001b[0;32m<ipython-input-22-6304d53d548e>\u001b[0m in \u001b[0;36m<module>\u001b[0;34m()\u001b[0m\n\u001b[0;32m----> 1\u001b[0;31m trainloader = torch.utils.data.DataLoader(trainset, batch_size=4,\n\u001b[0m\u001b[1;32m      2\u001b[0m                                           shuffle=True, num_workers=2)\n",
      "\u001b[0;31mNameError\u001b[0m: name 'trainset' is not defined"
     ]
    }
   ],
   "source": [
    "trainloader = torch.utils.data.DataLoader(trainset, batch_size=4,\n",
    "                                          shuffle=True, num_workers=2)"
   ]
  },
  {
   "cell_type": "code",
   "execution_count": 9,
   "metadata": {},
   "outputs": [],
   "source": [
    "optimizer = optim.SGD(net.parameters(), lr=0.01)"
   ]
  },
  {
   "cell_type": "code",
   "execution_count": 12,
   "metadata": {},
   "outputs": [],
   "source": [
    "criterion = nn.CrossEntropyLoss()"
   ]
  },
  {
   "cell_type": "code",
   "execution_count": 50,
   "metadata": {
    "scrolled": true
   },
   "outputs": [
    {
     "name": "stdout",
     "output_type": "stream",
     "text": [
      "[1,   500] loss: 2.045\n",
      "[1,  1000] loss: 1.921\n",
      "[2,   500] loss: 1.708\n",
      "[2,  1000] loss: 1.742\n",
      "[3,   500] loss: 1.532\n",
      "[3,  1000] loss: 1.593\n",
      "[4,   500] loss: 1.381\n",
      "[4,  1000] loss: 1.500\n",
      "[5,   500] loss: 1.248\n",
      "[5,  1000] loss: 1.443\n",
      "[6,   500] loss: 1.127\n",
      "[6,  1000] loss: 1.373\n",
      "[7,   500] loss: 1.057\n",
      "[7,  1000] loss: 1.171\n",
      "[8,   500] loss: 1.026\n",
      "[8,  1000] loss: 1.111\n",
      "[9,   500] loss: 0.906\n",
      "[9,  1000] loss: 1.063\n",
      "[10,   500] loss: 0.800\n",
      "[10,  1000] loss: 0.976\n",
      "[11,   500] loss: 0.735\n",
      "[11,  1000] loss: 0.976\n",
      "[12,   500] loss: 0.634\n",
      "[12,  1000] loss: 0.870\n",
      "[13,   500] loss: 0.620\n",
      "[13,  1000] loss: 0.776\n",
      "[14,   500] loss: 0.572\n",
      "[14,  1000] loss: 0.719\n",
      "[15,   500] loss: 0.509\n",
      "[15,  1000] loss: 0.682\n"
     ]
    }
   ],
   "source": [
    "for epoch in range(15):  # loop over the dataset multiple times\n",
    "\n",
    "    running_loss = 0.0\n",
    "    for i, data in enumerate(trainloader, 0):\n",
    "        # get the inputs\n",
    "        inputs, labels = data\n",
    "\n",
    "        # wrap them in Variable\n",
    "        inputs, labels = Variable(inputs), Variable(labels)\n",
    "\n",
    "        # zero the parameter gradients\n",
    "        optimizer.zero_grad()\n",
    "\n",
    "        # forward + backward + optimize\n",
    "        outputs = net(inputs)\n",
    "        loss = criterion(outputs, labels)\n",
    "        loss.backward()\n",
    "        optimizer.step()\n",
    "\n",
    "        # print statistics\n",
    "        running_loss += loss.data[0]\n",
    "        if i % 500 == 499:    # print every 2000 mini-batches\n",
    "            print('[%d, %5d] loss: %.3f' %\n",
    "                  (epoch + 1, i + 1, running_loss / 500))\n",
    "            running_loss = 0.0"
   ]
  },
  {
   "cell_type": "code",
   "execution_count": 10,
   "metadata": {
    "scrolled": true
   },
   "outputs": [],
   "source": [
    "testset = torchvision.datasets.STL10(root='/media/alex/Windows8_OS/Ubuntu/python/sem_2', split='test',\\\n",
    "                                     transform=transform)"
   ]
  },
  {
   "cell_type": "code",
   "execution_count": 11,
   "metadata": {},
   "outputs": [],
   "source": [
    "testloader = torch.utils.data.DataLoader(testset, batch_size=4,\n",
    "                                          shuffle=True, num_workers=2)"
   ]
  },
  {
   "cell_type": "markdown",
   "metadata": {},
   "source": [
    "#### Result"
   ]
  },
  {
   "cell_type": "code",
   "execution_count": 53,
   "metadata": {},
   "outputs": [
    {
     "name": "stdout",
     "output_type": "stream",
     "text": [
      "Accuracy of the network on test images: 36 %\n"
     ]
    }
   ],
   "source": [
    "correct = 0\n",
    "total = 0\n",
    "for data in testloader:\n",
    "    images, labels = data\n",
    "    outputs = net(Variable(images))\n",
    "    _, predicted = torch.max(outputs.data, 1)\n",
    "    total += labels.size(0)\n",
    "    correct += (predicted == labels).sum()\n",
    "\n",
    "print('Accuracy of the network on test images: %d %%' % (\n",
    "    100 * correct / total))"
   ]
  },
  {
   "cell_type": "markdown",
   "metadata": {},
   "source": [
    "### Random Forest"
   ]
  },
  {
   "cell_type": "code",
   "execution_count": 669,
   "metadata": {},
   "outputs": [],
   "source": [
    "from sklearn.ensemble import RandomForestClassifier"
   ]
  },
  {
   "cell_type": "code",
   "execution_count": 670,
   "metadata": {},
   "outputs": [],
   "source": [
    "rfclf = RandomForestClassifier(1000,n_jobs=-1)"
   ]
  },
  {
   "cell_type": "code",
   "execution_count": 671,
   "metadata": {},
   "outputs": [],
   "source": [
    "import numpy as np"
   ]
  },
  {
   "cell_type": "code",
   "execution_count": 672,
   "metadata": {},
   "outputs": [],
   "source": [
    "import sklearn"
   ]
  },
  {
   "cell_type": "code",
   "execution_count": null,
   "metadata": {},
   "outputs": [],
   "source": [
    "X = np.ravel(trainset[0][0].numpy())\n",
    "y = np.array(trainset[0][1])\n",
    "\n",
    "for data in trainset:\n",
    "    images, labels = data\n",
    "    X = np.vstack((X,np.ravel(images.numpy())))\n",
    "    y = np.vstack((y,np.array(labels)))\n",
    "\n",
    "X = X[1::]\n",
    "y = y[1::]\n",
    "\n",
    "X,y = sklearn.utils.shuffle(X,y)\n",
    "\n",
    "y = y.ravel()"
   ]
  },
  {
   "cell_type": "code",
   "execution_count": 63,
   "metadata": {
    "scrolled": true
   },
   "outputs": [
    {
     "data": {
      "text/plain": [
       "RandomForestClassifier(bootstrap=True, class_weight=None, criterion='gini',\n",
       "            max_depth=None, max_features='auto', max_leaf_nodes=None,\n",
       "            min_impurity_decrease=0.0, min_impurity_split=None,\n",
       "            min_samples_leaf=1, min_samples_split=2,\n",
       "            min_weight_fraction_leaf=0.0, n_estimators=1000, n_jobs=-1,\n",
       "            oob_score=False, random_state=None, verbose=0,\n",
       "            warm_start=False)"
      ]
     },
     "execution_count": 63,
     "metadata": {},
     "output_type": "execute_result"
    }
   ],
   "source": [
    "rfclf.fit(X,y)"
   ]
  },
  {
   "cell_type": "code",
   "execution_count": 64,
   "metadata": {},
   "outputs": [],
   "source": [
    "X_test = np.ravel(trainset[0][0].numpy())\n",
    "y_test = np.array(trainset[0][1])"
   ]
  },
  {
   "cell_type": "code",
   "execution_count": 65,
   "metadata": {},
   "outputs": [],
   "source": [
    "for data in testset:\n",
    "    images, labels = data\n",
    "    X_test = np.vstack((X_test,np.ravel(images.numpy())))\n",
    "    y_test = np.vstack((y_test,np.array(labels)))"
   ]
  },
  {
   "cell_type": "code",
   "execution_count": 66,
   "metadata": {},
   "outputs": [],
   "source": [
    "X_test = X_test[1::]"
   ]
  },
  {
   "cell_type": "code",
   "execution_count": 67,
   "metadata": {},
   "outputs": [],
   "source": [
    "y_test = y_test[1::]"
   ]
  },
  {
   "cell_type": "code",
   "execution_count": 68,
   "metadata": {},
   "outputs": [],
   "source": [
    "y_pred = rfclf.predict(X_test)"
   ]
  },
  {
   "cell_type": "markdown",
   "metadata": {},
   "source": [
    "#### Result"
   ]
  },
  {
   "cell_type": "code",
   "execution_count": 69,
   "metadata": {
    "scrolled": true
   },
   "outputs": [
    {
     "name": "stdout",
     "output_type": "stream",
     "text": [
      "accuracy for random forest 43 %\n"
     ]
    }
   ],
   "source": [
    "print(\"accuracy for random forest %d %%\" % (100*(y_pred.ravel() == y_test.ravel()).sum()/y_test.shape[0]))"
   ]
  },
  {
   "cell_type": "markdown",
   "metadata": {},
   "source": [
    "## Task №2"
   ]
  },
  {
   "cell_type": "markdown",
   "metadata": {},
   "source": [
    "#### functions"
   ]
  },
  {
   "cell_type": "code",
   "execution_count": 637,
   "metadata": {},
   "outputs": [],
   "source": [
    "def fitNet(net, epoch_num=15, trainloader=trainloader, optimizer=optim.SGD, weight_decay=0.1, momentum=0):\n",
    "    optimizer = optimizer(net.parameters(), lr=0.001, weight_decay=weight_decay, momentum = momentum)\n",
    "    \n",
    "    criterion = nn.CrossEntropyLoss()\n",
    "    for epoch in range(epoch_num):  # loop over the dataset multiple times\n",
    "\n",
    "        running_loss = 0.0\n",
    "        for i, data in enumerate(trainloader, 0):\n",
    "            # get the inputs\n",
    "            inputs, labels = data\n",
    "\n",
    "            # wrap them in Variable\n",
    "            inputs, labels = Variable(inputs), Variable(labels)\n",
    "\n",
    "            # zero the parameter gradients\n",
    "            optimizer.zero_grad()\n",
    "\n",
    "            # forward + backward + optimize\n",
    "            outputs = net(inputs)\n",
    "            loss = criterion(outputs, labels)\n",
    "            loss.backward()\n",
    "            optimizer.step()\n",
    "            \n",
    "            running_loss += loss.data[0]\n",
    "\n",
    "def accuracy(net, testloader=testloader):\n",
    "    correct = 0\n",
    "    total = 0\n",
    "    for data in testloader:\n",
    "        images, labels = data\n",
    "        outputs = net(Variable(images))\n",
    "        _, predicted = torch.max(outputs.data, 1)\n",
    "        total += labels.size(0)\n",
    "        correct += (predicted == labels).sum()\n",
    "\n",
    "    return 100 * correct / total\n",
    "    \n",
    "def finder(kwargsbias, param_list, param_name):\n",
    "    acc = []\n",
    "    arg = []\n",
    "    for i, par in enumerate(param_list):\n",
    "        kwargsbias[param_name] = par\n",
    "        net = ConvNet(**kwargsbias)        \n",
    "        if(3*32*32 > net.linear_in):\n",
    "            fitNet(net)\n",
    "            acc = acc + [accuracy(net)] \n",
    "            arg = arg + [i]\n",
    "        else:\n",
    "            acc = acc + ['st']\n",
    "            arg = arg + [i]\n",
    "    return acc, arg"
   ]
  },
  {
   "cell_type": "markdown",
   "metadata": {},
   "source": [
    "#### Kernel"
   ]
  },
  {
   "cell_type": "code",
   "execution_count": 71,
   "metadata": {},
   "outputs": [],
   "source": [
    "params = {\"class_num\":10, \"layers_num\":1, \"conv_out_channels\":(5,),\\\n",
    "                \"conv_kernel_size\":(2,), \"conv_stride\":(1,), \"conv_padding\":(0,),\\\n",
    "                \"activ_func\":(), \"pool_kernel_size\":(2,), \"pool_stride\":(2,), \"pool_padding\":(0,)}"
   ]
  },
  {
   "cell_type": "code",
   "execution_count": 72,
   "metadata": {
    "scrolled": true
   },
   "outputs": [],
   "source": [
    "acc, arg = finder(params, [(i,) for i in range(2,9,1)], 'conv_kernel_size')"
   ]
  },
  {
   "cell_type": "code",
   "execution_count": 73,
   "metadata": {},
   "outputs": [
    {
     "data": {
      "text/plain": [
       "[0, 1, 2, 3, 4, 5, 6]"
      ]
     },
     "execution_count": 73,
     "metadata": {},
     "output_type": "execute_result"
    }
   ],
   "source": [
    "arg"
   ]
  },
  {
   "cell_type": "code",
   "execution_count": 74,
   "metadata": {},
   "outputs": [
    {
     "data": {
      "text/plain": [
       "[39.5125, 41.025, 40.4625, 40.825, 40.1875, 39.8, 39.9]"
      ]
     },
     "execution_count": 74,
     "metadata": {},
     "output_type": "execute_result"
    }
   ],
   "source": [
    "acc"
   ]
  },
  {
   "cell_type": "markdown",
   "metadata": {},
   "source": [
    "#### filters num"
   ]
  },
  {
   "cell_type": "code",
   "execution_count": 75,
   "metadata": {},
   "outputs": [],
   "source": [
    "acc, arg = finder(params, [(i,) for i in range(5,40,4)], 'conv_out_channels')"
   ]
  },
  {
   "cell_type": "code",
   "execution_count": 76,
   "metadata": {},
   "outputs": [
    {
     "data": {
      "text/plain": [
       "[41.275, 40.075, 41.65, 42.05, 42.05, 'st', 'st', 'st', 'st']"
      ]
     },
     "execution_count": 76,
     "metadata": {},
     "output_type": "execute_result"
    }
   ],
   "source": [
    "acc"
   ]
  },
  {
   "cell_type": "code",
   "execution_count": 77,
   "metadata": {},
   "outputs": [
    {
     "data": {
      "text/plain": [
       "[(5,), (9,), (13,), (17,), (21,), (25,), (29,), (33,), (37,)]"
      ]
     },
     "execution_count": 77,
     "metadata": {},
     "output_type": "execute_result"
    }
   ],
   "source": [
    "[(i,) for i in range(5,40,4)]"
   ]
  },
  {
   "cell_type": "markdown",
   "metadata": {},
   "source": [
    "#### kernel + filter num"
   ]
  },
  {
   "cell_type": "code",
   "execution_count": 78,
   "metadata": {},
   "outputs": [],
   "source": [
    "params = {\"class_num\":10, \"layers_num\":1, \"conv_out_channels\":(5,),\\\n",
    "                \"conv_kernel_size\":(4,), \"conv_stride\":(2,), \"conv_padding\":(0,),\\\n",
    "                \"activ_func\":(), \"pool_kernel_size\":(2,), \"pool_stride\":(1,), \"pool_padding\":(0,)}"
   ]
  },
  {
   "cell_type": "code",
   "execution_count": 79,
   "metadata": {},
   "outputs": [],
   "source": [
    "acc, arg = finder(params, [(i,) for i in range(5,40,4)], 'conv_out_channels')"
   ]
  },
  {
   "cell_type": "code",
   "execution_count": 80,
   "metadata": {},
   "outputs": [
    {
     "data": {
      "text/plain": [
       "[43.4125, 45.9, 45.5375, 'st', 'st', 'st', 'st', 'st', 'st']"
      ]
     },
     "execution_count": 80,
     "metadata": {},
     "output_type": "execute_result"
    }
   ],
   "source": [
    "acc"
   ]
  },
  {
   "cell_type": "code",
   "execution_count": 81,
   "metadata": {},
   "outputs": [
    {
     "data": {
      "text/plain": [
       "[(5,), (9,), (13,), (17,), (21,), (25,), (29,), (33,), (37,)]"
      ]
     },
     "execution_count": 81,
     "metadata": {},
     "output_type": "execute_result"
    }
   ],
   "source": [
    "[(i,) for i in range(5,40,4)]"
   ]
  },
  {
   "cell_type": "code",
   "execution_count": 82,
   "metadata": {},
   "outputs": [],
   "source": [
    "params.update({\"conv_kernel_size\":(6,)})"
   ]
  },
  {
   "cell_type": "code",
   "execution_count": 83,
   "metadata": {},
   "outputs": [],
   "source": [
    "acc, arg = finder(params, [(i,) for i in range(5,40,4)], 'conv_out_channels')"
   ]
  },
  {
   "cell_type": "code",
   "execution_count": 84,
   "metadata": {},
   "outputs": [
    {
     "data": {
      "text/plain": [
       "[42.5375, 45.6125, 45.95, 45.675, 'st', 'st', 'st', 'st', 'st']"
      ]
     },
     "execution_count": 84,
     "metadata": {},
     "output_type": "execute_result"
    }
   ],
   "source": [
    "acc"
   ]
  },
  {
   "cell_type": "code",
   "execution_count": 85,
   "metadata": {},
   "outputs": [],
   "source": [
    "params.update({\"conv_kernel_size\":(8,)})"
   ]
  },
  {
   "cell_type": "code",
   "execution_count": 86,
   "metadata": {
    "scrolled": true
   },
   "outputs": [],
   "source": [
    "acc, arg = finder(params, [(i,) for i in range(5,40,4)], 'conv_out_channels')"
   ]
  },
  {
   "cell_type": "code",
   "execution_count": 87,
   "metadata": {
    "scrolled": true
   },
   "outputs": [
    {
     "data": {
      "text/plain": [
       "[41.575, 43.0625, 45.275, 44.65, 45.6625, 'st', 'st', 'st', 'st']"
      ]
     },
     "execution_count": 87,
     "metadata": {},
     "output_type": "execute_result"
    }
   ],
   "source": [
    "acc"
   ]
  },
  {
   "cell_type": "code",
   "execution_count": 89,
   "metadata": {},
   "outputs": [],
   "source": [
    "params.update({\"conv_kernel_size\":(6,), \"conv_out_channels\":(13,)})"
   ]
  },
  {
   "cell_type": "code",
   "execution_count": 90,
   "metadata": {},
   "outputs": [],
   "source": [
    "net = ConvNet(**params)"
   ]
  },
  {
   "cell_type": "markdown",
   "metadata": {},
   "source": [
    "#### Result  \n",
    "acc:45.9  \n",
    "layers num:1  \n",
    "kernel:6  \n",
    "filter num: 13  "
   ]
  },
  {
   "cell_type": "code",
   "execution_count": 368,
   "metadata": {},
   "outputs": [],
   "source": [
    "filt_list = list(range(5,40,4))"
   ]
  },
  {
   "cell_type": "code",
   "execution_count": 369,
   "metadata": {},
   "outputs": [
    {
     "data": {
      "text/plain": [
       "[5, 9, 13, 17, 21, 25, 29, 33, 37]"
      ]
     },
     "execution_count": 369,
     "metadata": {},
     "output_type": "execute_result"
    }
   ],
   "source": [
    "filt_list"
   ]
  },
  {
   "cell_type": "code",
   "execution_count": 391,
   "metadata": {},
   "outputs": [
    {
     "data": {
      "text/plain": [
       "([<matplotlib.axis.XTick at 0x7f9dda3bdac8>,\n",
       "  <matplotlib.axis.XTick at 0x7f9dda41a470>,\n",
       "  <matplotlib.axis.XTick at 0x7f9dda3bb438>,\n",
       "  <matplotlib.axis.XTick at 0x7f9dda359908>,\n",
       "  <matplotlib.axis.XTick at 0x7f9dda364470>],\n",
       " <a list of 5 Text xticklabel objects>)"
      ]
     },
     "execution_count": 391,
     "metadata": {},
     "output_type": "execute_result"
    },
    {
     "data": {
      "image/png": "[encoded data removed]",
      "text/plain": [
       "<matplotlib.figure.Figure at 0x7f9dda5f6978>"
      ]
     },
     "metadata": {},
     "output_type": "display_data"
    }
   ],
   "source": [
    "plt.figure(figsize=(10,5))\n",
    "plt.plot(filt_list[0:3], [43.4125, 45.9, 45.5375],'-o', label='4x4')\n",
    "plt.plot(filt_list[0:4], [42.5375, 45.6125, 45.95, 45.675],'-o',label='6x6')\n",
    "plt.plot(filt_list[0:5], [41.575, 43.0625, 45.275, 44.65, 45.6625],'-o', label='8x8')\n",
    "plt.legend(title=\"kernel size\")\n",
    "plt.grid()\n",
    "plt.axis( [5,21,40,50],'tight')\n",
    "plt.xlabel('filter\\'s num', fontsize=15)\n",
    "plt.ylabel('accuracy (%)', fontsize=15)\n",
    "plt.xticks(filt_list[0:5])"
   ]
  },
  {
   "cell_type": "markdown",
   "metadata": {},
   "source": [
    "#### layer 2"
   ]
  },
  {
   "cell_type": "code",
   "execution_count": 161,
   "metadata": {},
   "outputs": [],
   "source": [
    "params = {\"class_num\":10, \"layers_num\":2, \"conv_out_channels\":[13,14],\\\n",
    "                \"conv_kernel_size\":[6,2], \"conv_stride\":(2,1), \"conv_padding\":(0,0),\\\n",
    "                \"activ_func\":(), \"pool_kernel_size\":(2,2), \"pool_stride\":(1,1), \"pool_padding\":(0,0)}"
   ]
  },
  {
   "cell_type": "code",
   "execution_count": 112,
   "metadata": {},
   "outputs": [],
   "source": [
    "net = ConvNet(**params)"
   ]
  },
  {
   "cell_type": "code",
   "execution_count": 113,
   "metadata": {},
   "outputs": [
    {
     "data": {
      "text/plain": [
       "[3072, 2197, 1694]"
      ]
     },
     "execution_count": 113,
     "metadata": {},
     "output_type": "execute_result"
    }
   ],
   "source": [
    "net.layer_out_list"
   ]
  },
  {
   "cell_type": "code",
   "execution_count": 114,
   "metadata": {},
   "outputs": [],
   "source": [
    "fitNet(net,30,trainloader,weight_decay=0.003)"
   ]
  },
  {
   "cell_type": "code",
   "execution_count": 115,
   "metadata": {},
   "outputs": [
    {
     "data": {
      "text/plain": [
       "49.0125"
      ]
     },
     "execution_count": 115,
     "metadata": {},
     "output_type": "execute_result"
    }
   ],
   "source": [
    "accuracy(net)"
   ]
  },
  {
   "cell_type": "code",
   "execution_count": 116,
   "metadata": {},
   "outputs": [],
   "source": [
    "net_2 = ConvNet(**params)"
   ]
  },
  {
   "cell_type": "code",
   "execution_count": 117,
   "metadata": {
    "scrolled": true
   },
   "outputs": [
    {
     "data": {
      "text/plain": [
       "[3072, 2197, 1694]"
      ]
     },
     "execution_count": 117,
     "metadata": {},
     "output_type": "execute_result"
    }
   ],
   "source": [
    "net_2.layer_out_list"
   ]
  },
  {
   "cell_type": "code",
   "execution_count": 660,
   "metadata": {},
   "outputs": [],
   "source": [
    "f = lambda x: all([x[i]<x[i-1] for i in range(1, len(x))])"
   ]
  },
  {
   "cell_type": "code",
   "execution_count": 656,
   "metadata": {},
   "outputs": [],
   "source": [
    "def layer_slayer(kwargsbias, param_list, param_name):\n",
    "    acc = []\n",
    "    arg = []\n",
    "    for i, par in enumerate(param_list):\n",
    "        kwargsbias[param_name][-1] = par\n",
    "        net = ConvNet(**kwargsbias)\n",
    "        print(net.layer_out_list)\n",
    "        print(f(net.layer_out_list))\n",
    "        if(f(net.layer_out_list)):\n",
    "            fitNet(net, 15*net.layers_num, weight_decay=0.003)\n",
    "            acc = acc + [accuracy(net)] \n",
    "            arg = arg + [par]\n",
    "        else:\n",
    "            acc = acc + ['st']\n",
    "            arg = arg + [par]\n",
    "    return acc, arg"
   ]
  },
  {
   "cell_type": "code",
   "execution_count": 144,
   "metadata": {
    "scrolled": false
   },
   "outputs": [],
   "source": [
    "params[\"conv_kernel_size\"][-1]=2"
   ]
  },
  {
   "cell_type": "code",
   "execution_count": 145,
   "metadata": {
    "scrolled": false
   },
   "outputs": [
    {
     "name": "stdout",
     "output_type": "stream",
     "text": [
      "[3072, 2197, 1573]\n",
      "True\n",
      "[3072, 2197, 2057]\n",
      "True\n",
      "[3072, 2197, 2541]\n",
      "False\n",
      "[3072, 2197, 3025]\n",
      "False\n",
      "[3072, 2197, 3509]\n",
      "False\n",
      "[3072, 2197, 3993]\n",
      "False\n",
      "[3072, 2197, 4477]\n",
      "False\n"
     ]
    },
    {
     "data": {
      "text/plain": [
       "([48.025, 49.0875, 'st', 'st', 'st', 'st', 'st'], [0, 1, 2, 3, 4, 5, 6])"
      ]
     },
     "execution_count": 145,
     "metadata": {},
     "output_type": "execute_result"
    }
   ],
   "source": [
    "layer_slayer(params, [i for i in range(13,41,4)], 'conv_out_channels')\n"
   ]
  },
  {
   "cell_type": "code",
   "execution_count": 147,
   "metadata": {},
   "outputs": [
    {
     "data": {
      "text/plain": [
       "[13, 17, 21, 25, 29, 33, 37]"
      ]
     },
     "execution_count": 147,
     "metadata": {},
     "output_type": "execute_result"
    }
   ],
   "source": [
    "list(range(13,41,4))"
   ]
  },
  {
   "cell_type": "code",
   "execution_count": 155,
   "metadata": {},
   "outputs": [],
   "source": [
    "params[\"conv_kernel_size\"][-1]=3"
   ]
  },
  {
   "cell_type": "code",
   "execution_count": 162,
   "metadata": {
    "scrolled": true
   },
   "outputs": [
    {
     "name": "stdout",
     "output_type": "stream",
     "text": [
      "[3072, 2197, 1573]\n",
      "True\n",
      "[3072, 2197, 2057]\n",
      "True\n",
      "[3072, 2197, 2541]\n",
      "False\n",
      "[3072, 2197, 3025]\n",
      "False\n",
      "[3072, 2197, 3509]\n",
      "False\n",
      "[3072, 2197, 3993]\n",
      "False\n",
      "[3072, 2197, 4477]\n",
      "False\n"
     ]
    },
    {
     "data": {
      "text/plain": [
       "([49.675, 50.4125, 'st', 'st', 'st', 'st', 'st'], [13, 17, 21, 25, 29, 33, 37])"
      ]
     },
     "execution_count": 162,
     "metadata": {},
     "output_type": "execute_result"
    }
   ],
   "source": [
    "layer_slayer(params, [i for i in range(13,41,4)], 'conv_out_channels')"
   ]
  },
  {
   "cell_type": "code",
   "execution_count": 163,
   "metadata": {},
   "outputs": [],
   "source": [
    "params[\"conv_kernel_size\"][-1]=4"
   ]
  },
  {
   "cell_type": "code",
   "execution_count": 164,
   "metadata": {},
   "outputs": [
    {
     "name": "stdout",
     "output_type": "stream",
     "text": [
      "[3072, 2197, 1053]\n",
      "True\n",
      "[3072, 2197, 1377]\n",
      "True\n",
      "[3072, 2197, 1701]\n",
      "True\n",
      "[3072, 2197, 2025]\n",
      "True\n",
      "[3072, 2197, 2349]\n",
      "False\n",
      "[3072, 2197, 2673]\n",
      "False\n",
      "[3072, 2197, 2997]\n",
      "False\n"
     ]
    },
    {
     "data": {
      "text/plain": [
       "([49.2625, 48.3625, 49.9375, 50.6125, 'st', 'st', 'st'],\n",
       " [13, 17, 21, 25, 29, 33, 37])"
      ]
     },
     "execution_count": 164,
     "metadata": {},
     "output_type": "execute_result"
    }
   ],
   "source": [
    "layer_slayer(params, [i for i in range(13,41,4)], 'conv_out_channels')"
   ]
  },
  {
   "cell_type": "markdown",
   "metadata": {},
   "source": [
    "#### layer3"
   ]
  },
  {
   "cell_type": "code",
   "execution_count": 173,
   "metadata": {},
   "outputs": [],
   "source": [
    "params = {\"class_num\":10, \"layers_num\":3, \"conv_out_channels\":[13,25,40],\\\n",
    "                \"conv_kernel_size\":[6,4,2], \"conv_stride\":(2,1,1), \"conv_padding\":(0,0,0),\\\n",
    "                \"activ_func\":(), \"pool_kernel_size\":(2,2,2), \"pool_stride\":(1,1,1), \"pool_padding\":(0,0,0)}"
   ]
  },
  {
   "cell_type": "code",
   "execution_count": 174,
   "metadata": {},
   "outputs": [],
   "source": [
    "net = ConvNet(**params)"
   ]
  },
  {
   "cell_type": "code",
   "execution_count": 175,
   "metadata": {},
   "outputs": [
    {
     "data": {
      "text/plain": [
       "[3072, 2197, 2025, 1960]"
      ]
     },
     "execution_count": 175,
     "metadata": {},
     "output_type": "execute_result"
    }
   ],
   "source": [
    "net.layer_out_list"
   ]
  },
  {
   "cell_type": "code",
   "execution_count": 177,
   "metadata": {},
   "outputs": [],
   "source": [
    "fitNet(net,60,weight_decay=0.001)"
   ]
  },
  {
   "cell_type": "code",
   "execution_count": 178,
   "metadata": {
    "scrolled": true
   },
   "outputs": [
    {
     "data": {
      "text/plain": [
       "49.4625"
      ]
     },
     "execution_count": 178,
     "metadata": {},
     "output_type": "execute_result"
    }
   ],
   "source": [
    "accuracy(net)"
   ]
  },
  {
   "cell_type": "markdown",
   "metadata": {},
   "source": [
    "#### Loss and Time"
   ]
  },
  {
   "cell_type": "code",
   "execution_count": 6,
   "metadata": {},
   "outputs": [],
   "source": [
    "import json"
   ]
  },
  {
   "cell_type": "code",
   "execution_count": 13,
   "metadata": {},
   "outputs": [],
   "source": [
    "from time import time"
   ]
  },
  {
   "cell_type": "code",
   "execution_count": 38,
   "metadata": {},
   "outputs": [
    {
     "ename": "NameError",
     "evalue": "name 'trainloader' is not defined",
     "output_type": "error",
     "traceback": [
      "\u001b[0;31m---------------------------------------------------------------------------\u001b[0m",
      "\u001b[0;31mNameError\u001b[0m                                 Traceback (most recent call last)",
      "\u001b[0;32m<ipython-input-38-2cfa43330b24>\u001b[0m in \u001b[0;36m<module>\u001b[0;34m()\u001b[0m\n\u001b[0;32m----> 1\u001b[0;31m \u001b[0;32mdef\u001b[0m \u001b[0mloss_and_time\u001b[0m\u001b[0;34m(\u001b[0m\u001b[0mnet\u001b[0m\u001b[0;34m,\u001b[0m \u001b[0mepoch_num\u001b[0m\u001b[0;34m=\u001b[0m\u001b[0;36m15\u001b[0m\u001b[0;34m,\u001b[0m \u001b[0mtrainloader\u001b[0m\u001b[0;34m=\u001b[0m\u001b[0mtrainloader\u001b[0m\u001b[0;34m,\u001b[0m \u001b[0moptimizer\u001b[0m\u001b[0;34m=\u001b[0m\u001b[0moptim\u001b[0m\u001b[0;34m.\u001b[0m\u001b[0mSGD\u001b[0m\u001b[0;34m,\u001b[0m                  \u001b[0mweight_decay\u001b[0m\u001b[0;34m=\u001b[0m\u001b[0;36m0.1\u001b[0m\u001b[0;34m,\u001b[0m \u001b[0mmomentum\u001b[0m\u001b[0;34m=\u001b[0m\u001b[0;32mNone\u001b[0m\u001b[0;34m,\u001b[0m \u001b[0mlr\u001b[0m \u001b[0;34m=\u001b[0m \u001b[0;36m0.001\u001b[0m\u001b[0;34m)\u001b[0m\u001b[0;34m:\u001b[0m\u001b[0;34m\u001b[0m\u001b[0m\n\u001b[0m\u001b[1;32m      2\u001b[0m     \u001b[0;32mif\u001b[0m \u001b[0mmomentum\u001b[0m \u001b[0;32mis\u001b[0m \u001b[0;32mnot\u001b[0m \u001b[0;32mNone\u001b[0m\u001b[0;34m:\u001b[0m\u001b[0;34m\u001b[0m\u001b[0m\n\u001b[1;32m      3\u001b[0m         \u001b[0moptimizer\u001b[0m \u001b[0;34m=\u001b[0m \u001b[0moptimizer\u001b[0m\u001b[0;34m(\u001b[0m\u001b[0mnet\u001b[0m\u001b[0;34m.\u001b[0m\u001b[0mparameters\u001b[0m\u001b[0;34m(\u001b[0m\u001b[0;34m)\u001b[0m\u001b[0;34m,\u001b[0m \u001b[0mlr\u001b[0m\u001b[0;34m=\u001b[0m\u001b[0mlr\u001b[0m\u001b[0;34m,\u001b[0m \u001b[0mweight_decay\u001b[0m\u001b[0;34m=\u001b[0m\u001b[0mweight_decay\u001b[0m\u001b[0;34m,\u001b[0m \u001b[0mmomentum\u001b[0m\u001b[0;34m=\u001b[0m\u001b[0mmomentum\u001b[0m\u001b[0;34m)\u001b[0m\u001b[0;34m\u001b[0m\u001b[0m\n\u001b[1;32m      4\u001b[0m     \u001b[0;32melse\u001b[0m\u001b[0;34m:\u001b[0m\u001b[0;34m\u001b[0m\u001b[0m\n\u001b[1;32m      5\u001b[0m         \u001b[0moptimizer\u001b[0m \u001b[0;34m=\u001b[0m \u001b[0moptimizer\u001b[0m\u001b[0;34m(\u001b[0m\u001b[0mnet\u001b[0m\u001b[0;34m.\u001b[0m\u001b[0mparameters\u001b[0m\u001b[0;34m(\u001b[0m\u001b[0;34m)\u001b[0m\u001b[0;34m,\u001b[0m \u001b[0mlr\u001b[0m\u001b[0;34m=\u001b[0m\u001b[0mlr\u001b[0m\u001b[0;34m,\u001b[0m \u001b[0mweight_decay\u001b[0m\u001b[0;34m=\u001b[0m\u001b[0mweight_decay\u001b[0m\u001b[0;34m)\u001b[0m\u001b[0;34m\u001b[0m\u001b[0m\n",
      "\u001b[0;31mNameError\u001b[0m: name 'trainloader' is not defined"
     ]
    }
   ],
   "source": [
    "def loss_and_time(net, epoch_num=15, trainloader=trainloader, optimizer=optim.SGD,\\\n",
    "                  weight_decay=0.1, momentum=None, lr = 0.001):\n",
    "    if momentum is not None:\n",
    "        optimizer = optimizer(net.parameters(), lr=lr, weight_decay=weight_decay, momentum=momentum)\n",
    "    else:\n",
    "        optimizer = optimizer(net.parameters(), lr=lr, weight_decay=weight_decay)\n",
    "    start = time()\n",
    "    time_list = [0]\n",
    "    for epoch in range(epoch_num):  # loop over the dataset multiple times\n",
    "\n",
    "        running_loss = 0.0\n",
    "        for i, data in enumerate(trainloader, 0):\n",
    "            # get the inputs\n",
    "            inputs, labels = data\n",
    "\n",
    "            # wrap them in Variable\n",
    "            inputs, labels = Variable(inputs), Variable(labels)\n",
    "\n",
    "            # zero the parameter gradients\n",
    "            optimizer.zero_grad()\n",
    "\n",
    "            # forward + backward + optimize\n",
    "            outputs = net(inputs)\n",
    "            loss = criterion(outputs, labels)\n",
    "            loss.backward()\n",
    "            optimizer.step()\n",
    "            \n",
    "            running_loss += loss.data[0]\n",
    "            if(i % 500 == 499):\n",
    "                time_list = time_list + [time() - start]\n",
    "                net.history += [running_loss/500]\n",
    "                running_loss = 0\n",
    "    return time_list"
   ]
  },
  {
   "cell_type": "code",
   "execution_count": 233,
   "metadata": {},
   "outputs": [],
   "source": [
    "params = {\"class_num\":10, \"layers_num\":1, \"conv_out_channels\":(5,),\\\n",
    "                \"conv_kernel_size\":(4,), \"conv_stride\":(2,), \"conv_padding\":(0,),\\\n",
    "                \"activ_func\":(), \"pool_kernel_size\":(2,), \"pool_stride\":(1,), \"pool_padding\":(0,)}"
   ]
  },
  {
   "cell_type": "code",
   "execution_count": 234,
   "metadata": {},
   "outputs": [],
   "source": [
    "net1 = ConvNet(**params)"
   ]
  },
  {
   "cell_type": "code",
   "execution_count": 281,
   "metadata": {},
   "outputs": [],
   "source": [
    "params = {\"class_num\":10, \"layers_num\":2, \"conv_out_channels\":[13,25],\\\n",
    "                \"conv_kernel_size\":[6,4], \"conv_stride\":(2,1), \"conv_padding\":(0,0),\\\n",
    "                \"activ_func\":(), \"pool_kernel_size\":(2,2), \"pool_stride\":(1,1), \"pool_padding\":(0,0)}"
   ]
  },
  {
   "cell_type": "code",
   "execution_count": 282,
   "metadata": {},
   "outputs": [],
   "source": [
    "net2 = ConvNet(**params)"
   ]
  },
  {
   "cell_type": "code",
   "execution_count": 283,
   "metadata": {},
   "outputs": [],
   "source": [
    "params = {\"class_num\":10, \"layers_num\":3, \"conv_out_channels\":[13,25,40],\\\n",
    "                \"conv_kernel_size\":[6,4,2], \"conv_stride\":(2,1,1), \"conv_padding\":(0,0,0),\\\n",
    "                \"activ_func\":(), \"pool_kernel_size\":(2,2,2), \"pool_stride\":(1,1,1), \"pool_padding\":(0,0,0)}"
   ]
  },
  {
   "cell_type": "code",
   "execution_count": 284,
   "metadata": {},
   "outputs": [],
   "source": [
    "net3 = ConvNet(**params)"
   ]
  },
  {
   "cell_type": "code",
   "execution_count": 334,
   "metadata": {},
   "outputs": [],
   "source": [
    "params = {\"class_num\":10, \"layers_num\":4, \"conv_out_channels\":[13,25,40,40],\\\n",
    "                \"conv_kernel_size\":[6,4,2,2], \"conv_stride\":(2,1,1,1), \"conv_padding\":(0,0,0,0),\\\n",
    "                \"activ_func\":(), \"pool_kernel_size\":(2,2,2,1), \"pool_stride\":(1,1,1,1), \"pool_padding\":(0,0,0,0)}"
   ]
  },
  {
   "cell_type": "code",
   "execution_count": 335,
   "metadata": {},
   "outputs": [],
   "source": [
    "net4 = ConvNet(**params)"
   ]
  },
  {
   "cell_type": "code",
   "execution_count": 336,
   "metadata": {
    "scrolled": false
   },
   "outputs": [
    {
     "data": {
      "text/plain": [
       "[3072, 2197, 2025, 1960, 1440]"
      ]
     },
     "execution_count": 336,
     "metadata": {},
     "output_type": "execute_result"
    }
   ],
   "source": [
    "net4.layer_out_list"
   ]
  },
  {
   "cell_type": "code",
   "execution_count": 337,
   "metadata": {},
   "outputs": [],
   "source": [
    "params = {\"class_num\":10, \"layers_num\":5, \"conv_out_channels\":[13,25,40,40,40],\\\n",
    "                \"conv_kernel_size\":[6,4,2,2,2], \"conv_stride\":(2,1,1,1,1), \"conv_padding\":(0,0,0,0,0),\\\n",
    "                \"activ_func\":(), \"pool_kernel_size\":(2,2,2,1,1), \"pool_stride\":(1,1,1,1,1),\\\n",
    "          \"pool_padding\":(0,0,0,0,0)}"
   ]
  },
  {
   "cell_type": "code",
   "execution_count": 338,
   "metadata": {},
   "outputs": [],
   "source": [
    "net5 = ConvNet(**params)"
   ]
  },
  {
   "cell_type": "code",
   "execution_count": 339,
   "metadata": {},
   "outputs": [
    {
     "data": {
      "text/plain": [
       "[3072, 2197, 2025, 1960, 1440, 1000]"
      ]
     },
     "execution_count": 339,
     "metadata": {},
     "output_type": "execute_result"
    }
   ],
   "source": [
    "net5.layer_out_list"
   ]
  },
  {
   "cell_type": "code",
   "execution_count": 239,
   "metadata": {
    "scrolled": true
   },
   "outputs": [],
   "source": [
    "time1 = loss_and_time(net1,15,weight_decay=0.003)"
   ]
  },
  {
   "cell_type": "code",
   "execution_count": 285,
   "metadata": {},
   "outputs": [],
   "source": [
    "time2 = loss_and_time(net2,15,weight_decay=0.003)"
   ]
  },
  {
   "cell_type": "code",
   "execution_count": 286,
   "metadata": {},
   "outputs": [],
   "source": [
    "time3 = loss_and_time(net3,15,weight_decay=0.003)"
   ]
  },
  {
   "cell_type": "code",
   "execution_count": 340,
   "metadata": {},
   "outputs": [],
   "source": [
    "time4 = loss_and_time(net4,15,weight_decay=0.003)"
   ]
  },
  {
   "cell_type": "code",
   "execution_count": 341,
   "metadata": {},
   "outputs": [],
   "source": [
    "time5 = loss_and_time(net5,15,weight_decay=0.003)"
   ]
  },
  {
   "cell_type": "code",
   "execution_count": 7,
   "metadata": {},
   "outputs": [],
   "source": [
    "f = open(\"exp_2_data\", 'r')"
   ]
  },
  {
   "cell_type": "code",
   "execution_count": 343,
   "metadata": {},
   "outputs": [],
   "source": [
    "data = {'time1':time1,\n",
    "        'time2':time2,\n",
    "        'time3':time3,\n",
    "        'time4':time4,\n",
    "        'time5':time5,\n",
    "        'net1':net1.history ,\n",
    "        'net2':net2.history,\n",
    "        'net3':net3.history,\n",
    "        'net4':net4.history,\n",
    "        'net5':net5.history}"
   ]
  },
  {
   "cell_type": "code",
   "execution_count": 344,
   "metadata": {},
   "outputs": [],
   "source": [
    "json.dump(data, f)"
   ]
  },
  {
   "cell_type": "code",
   "execution_count": 9,
   "metadata": {},
   "outputs": [],
   "source": [
    "f.close()"
   ]
  },
  {
   "cell_type": "code",
   "execution_count": 8,
   "metadata": {},
   "outputs": [],
   "source": [
    "data = json.load(f)"
   ]
  },
  {
   "cell_type": "code",
   "execution_count": null,
   "metadata": {},
   "outputs": [],
   "source": []
  },
  {
   "cell_type": "code",
   "execution_count": 11,
   "metadata": {},
   "outputs": [
    {
     "data": {
      "image/png": "[encoded data removed]",
      "text/plain": [
       "<matplotlib.figure.Figure at 0x7f7eef3819e8>"
      ]
     },
     "metadata": {},
     "output_type": "display_data"
    }
   ],
   "source": [
    "\n",
    "plt.figure(figsize=(10,5))\n",
    "plt.plot(data['time1'][0:-1:], data['net1'], label='1 layer')\n",
    "plt.plot(data['time2'][0:-1:], data['net2'], label='2 layer')\n",
    "plt.plot(data['time3'][0:-1:], data['net3'],label='3 layer')\n",
    "plt.plot(data['time4'][0:-1:], data['net4'],label='4 layer')\n",
    "plt.legend()\n",
    "plt.grid()\n",
    "plt.xlabel('time', fontsize=15)\n",
    "plt.ylabel('loss', fontsize=15)\n",
    "plt.savefig('plot2.pdf', format='pdf')"
   ]
  },
  {
   "cell_type": "markdown",
   "metadata": {},
   "source": [
    "#### Momentum strategy"
   ]
  },
  {
   "cell_type": "code",
   "execution_count": 12,
   "metadata": {},
   "outputs": [],
   "source": [
    "params = {\"class_num\":10, \"layers_num\":2, \"conv_out_channels\":[13,25],\\\n",
    "                \"conv_kernel_size\":[6,4], \"conv_stride\":(2,1), \"conv_padding\":(0,0),\\\n",
    "                \"activ_func\":(), \"pool_kernel_size\":(2,2), \"pool_stride\":(1,1), \"pool_padding\":(0,0)}"
   ]
  },
  {
   "cell_type": "code",
   "execution_count": 13,
   "metadata": {},
   "outputs": [],
   "source": [
    "net = ConvNet(**params)"
   ]
  },
  {
   "cell_type": "code",
   "execution_count": 37,
   "metadata": {
    "scrolled": true
   },
   "outputs": [
    {
     "ename": "NameError",
     "evalue": "name 'loss_and_time' is not defined",
     "output_type": "error",
     "traceback": [
      "\u001b[0;31m---------------------------------------------------------------------------\u001b[0m",
      "\u001b[0;31mNameError\u001b[0m                                 Traceback (most recent call last)",
      "\u001b[0;32m<ipython-input-37-d026f7834cb2>\u001b[0m in \u001b[0;36m<module>\u001b[0;34m()\u001b[0m\n\u001b[1;32m      3\u001b[0m \u001b[0;32mfor\u001b[0m \u001b[0mi\u001b[0m \u001b[0;32min\u001b[0m \u001b[0;34m[\u001b[0m\u001b[0;36m0\u001b[0m\u001b[0;34m,\u001b[0m \u001b[0;36m0.01\u001b[0m\u001b[0;34m,\u001b[0m \u001b[0;36m0.1\u001b[0m\u001b[0;34m]\u001b[0m\u001b[0;34m:\u001b[0m\u001b[0;34m\u001b[0m\u001b[0m\n\u001b[1;32m      4\u001b[0m     \u001b[0mnet\u001b[0m \u001b[0;34m=\u001b[0m \u001b[0mConvNet\u001b[0m\u001b[0;34m(\u001b[0m\u001b[0;34m**\u001b[0m\u001b[0mparams\u001b[0m\u001b[0;34m)\u001b[0m\u001b[0;34m\u001b[0m\u001b[0m\n\u001b[0;32m----> 5\u001b[0;31m     \u001b[0mtime_list\u001b[0m \u001b[0;34m+=\u001b[0m \u001b[0;34m[\u001b[0m\u001b[0mloss_and_time\u001b[0m\u001b[0;34m(\u001b[0m\u001b[0mnet\u001b[0m\u001b[0;34m,\u001b[0m\u001b[0;36m15\u001b[0m\u001b[0;34m,\u001b[0m\u001b[0mweight_decay\u001b[0m\u001b[0;34m=\u001b[0m\u001b[0;36m0.003\u001b[0m\u001b[0;34m,\u001b[0m \u001b[0mmomentum\u001b[0m\u001b[0;34m=\u001b[0m\u001b[0mi\u001b[0m\u001b[0;34m)\u001b[0m\u001b[0;34m]\u001b[0m\u001b[0;34m\u001b[0m\u001b[0m\n\u001b[0m\u001b[1;32m      6\u001b[0m     \u001b[0mhistory\u001b[0m \u001b[0;34m+=\u001b[0m \u001b[0;34m[\u001b[0m\u001b[0mnet\u001b[0m\u001b[0;34m.\u001b[0m\u001b[0mhistory\u001b[0m\u001b[0;34m]\u001b[0m\u001b[0;34m\u001b[0m\u001b[0m\n",
      "\u001b[0;31mNameError\u001b[0m: name 'loss_and_time' is not defined"
     ]
    }
   ],
   "source": [
    "time_list = []\n",
    "history = []\n",
    "for i in [0, 0.01, 0.1]:\n",
    "    net = ConvNet(**params)\n",
    "    time_list += [loss_and_time(net,15,weight_decay=0.003, momentum=i)]\n",
    "    history += [net.history]"
   ]
  },
  {
   "cell_type": "code",
   "execution_count": 410,
   "metadata": {},
   "outputs": [],
   "source": [
    "time_list2 = []\n",
    "history2 = []\n",
    "for i in [0.5, 0.7]:\n",
    "    net = ConvNet(**params)\n",
    "    time_list2 += [loss_and_time(net,15,weight_decay=0.003, momentum=i)]\n",
    "    history2 += [net.history]"
   ]
  },
  {
   "cell_type": "code",
   "execution_count": 36,
   "metadata": {},
   "outputs": [
    {
     "ename": "IndexError",
     "evalue": "list index out of range",
     "output_type": "error",
     "traceback": [
      "\u001b[0;31m---------------------------------------------------------------------------\u001b[0m",
      "\u001b[0;31mIndexError\u001b[0m                                Traceback (most recent call last)",
      "\u001b[0;32m<ipython-input-36-54e9935ac36a>\u001b[0m in \u001b[0;36m<module>\u001b[0;34m()\u001b[0m\n\u001b[1;32m      1\u001b[0m \u001b[0;34m\u001b[0m\u001b[0m\n\u001b[1;32m      2\u001b[0m \u001b[0mplt\u001b[0m\u001b[0;34m.\u001b[0m\u001b[0mfigure\u001b[0m\u001b[0;34m(\u001b[0m\u001b[0mfigsize\u001b[0m\u001b[0;34m=\u001b[0m\u001b[0;34m(\u001b[0m\u001b[0;36m10\u001b[0m\u001b[0;34m,\u001b[0m\u001b[0;36m5\u001b[0m\u001b[0;34m)\u001b[0m\u001b[0;34m)\u001b[0m\u001b[0;34m\u001b[0m\u001b[0m\n\u001b[0;32m----> 3\u001b[0;31m \u001b[0mplt\u001b[0m\u001b[0;34m.\u001b[0m\u001b[0mplot\u001b[0m\u001b[0;34m(\u001b[0m\u001b[0mtime_list\u001b[0m\u001b[0;34m[\u001b[0m\u001b[0;36m0\u001b[0m\u001b[0;34m]\u001b[0m\u001b[0;34m[\u001b[0m\u001b[0;36m0\u001b[0m\u001b[0;34m:\u001b[0m\u001b[0;34m-\u001b[0m\u001b[0;36m1\u001b[0m\u001b[0;34m:\u001b[0m\u001b[0;34m]\u001b[0m\u001b[0;34m,\u001b[0m \u001b[0mhistory\u001b[0m\u001b[0;34m[\u001b[0m\u001b[0;36m0\u001b[0m\u001b[0;34m]\u001b[0m\u001b[0;34m,\u001b[0m \u001b[0mlabel\u001b[0m\u001b[0;34m=\u001b[0m\u001b[0;34m'0'\u001b[0m\u001b[0;34m)\u001b[0m\u001b[0;34m\u001b[0m\u001b[0m\n\u001b[0m\u001b[1;32m      4\u001b[0m \u001b[0mplt\u001b[0m\u001b[0;34m.\u001b[0m\u001b[0mplot\u001b[0m\u001b[0;34m(\u001b[0m\u001b[0mtime_list\u001b[0m\u001b[0;34m[\u001b[0m\u001b[0;36m1\u001b[0m\u001b[0;34m]\u001b[0m\u001b[0;34m[\u001b[0m\u001b[0;36m0\u001b[0m\u001b[0;34m:\u001b[0m\u001b[0;34m-\u001b[0m\u001b[0;36m1\u001b[0m\u001b[0;34m:\u001b[0m\u001b[0;34m]\u001b[0m\u001b[0;34m,\u001b[0m \u001b[0mhistory\u001b[0m\u001b[0;34m[\u001b[0m\u001b[0;36m1\u001b[0m\u001b[0;34m]\u001b[0m\u001b[0;34m,\u001b[0m\u001b[0mlabel\u001b[0m\u001b[0;34m=\u001b[0m\u001b[0;34m'0.01'\u001b[0m\u001b[0;34m)\u001b[0m\u001b[0;34m\u001b[0m\u001b[0m\n\u001b[1;32m      5\u001b[0m \u001b[0mplt\u001b[0m\u001b[0;34m.\u001b[0m\u001b[0mplot\u001b[0m\u001b[0;34m(\u001b[0m\u001b[0mtime_list\u001b[0m\u001b[0;34m[\u001b[0m\u001b[0;36m2\u001b[0m\u001b[0;34m]\u001b[0m\u001b[0;34m[\u001b[0m\u001b[0;36m0\u001b[0m\u001b[0;34m:\u001b[0m\u001b[0;34m-\u001b[0m\u001b[0;36m1\u001b[0m\u001b[0;34m:\u001b[0m\u001b[0;34m]\u001b[0m\u001b[0;34m,\u001b[0m \u001b[0mhistory\u001b[0m\u001b[0;34m[\u001b[0m\u001b[0;36m2\u001b[0m\u001b[0;34m]\u001b[0m\u001b[0;34m,\u001b[0m\u001b[0mlabel\u001b[0m\u001b[0;34m=\u001b[0m\u001b[0;34m'0.1'\u001b[0m\u001b[0;34m)\u001b[0m\u001b[0;34m\u001b[0m\u001b[0m\n",
      "\u001b[0;31mIndexError\u001b[0m: list index out of range"
     ]
    },
    {
     "data": {
      "text/plain": [
       "<matplotlib.figure.Figure at 0x7f7eef09e5c0>"
      ]
     },
     "metadata": {},
     "output_type": "display_data"
    }
   ],
   "source": [
    "\n",
    "plt.figure(figsize=(10,5))\n",
    "plt.plot(time_list[0][0:-1:], history[0], label='0')\n",
    "plt.plot(time_list[1][0:-1:], history[1],label='0.01')\n",
    "plt.plot(time_list[2][0:-1:], history[2],label='0.1')\n",
    "plt.plot(time_list2[0][0:-1:], history2[0],label='0.9')\n",
    "plt.plot(time_list2[1][0:-1:], history2[1],label='0.7')\n",
    "plt.legend(title='momentum:')\n",
    "plt.grid()\n",
    "plt.xlabel('time', fontsize=15)\n",
    "plt.ylabel('loss', fontsize=15)"
   ]
  },
  {
   "cell_type": "markdown",
   "metadata": {},
   "source": [
    "### Optimizers"
   ]
  },
  {
   "cell_type": "code",
   "execution_count": 453,
   "metadata": {},
   "outputs": [],
   "source": [
    "net_adam = ConvNet(**params)"
   ]
  },
  {
   "cell_type": "code",
   "execution_count": 454,
   "metadata": {},
   "outputs": [],
   "source": [
    "time_adam = loss_and_time(net_adam, 15, optimizer=optim.Adam, lr=0.0001)"
   ]
  },
  {
   "cell_type": "code",
   "execution_count": 455,
   "metadata": {},
   "outputs": [],
   "source": [
    "net_ada = ConvNet(**params)"
   ]
  },
  {
   "cell_type": "code",
   "execution_count": 456,
   "metadata": {},
   "outputs": [],
   "source": [
    "time_ada = loss_and_time(net_ada, 15, optimizer=optim.Adagrad)"
   ]
  },
  {
   "cell_type": "code",
   "execution_count": 457,
   "metadata": {
    "scrolled": true
   },
   "outputs": [
    {
     "data": {
      "text/plain": [
       "Text(0,0.5,'loss')"
      ]
     },
     "execution_count": 457,
     "metadata": {},
     "output_type": "execute_result"
    },
    {
     "data": {
      "image/png": "[encoded data removed]",
      "text/plain": [
       "<matplotlib.figure.Figure at 0x7f9dd9e68128>"
      ]
     },
     "metadata": {},
     "output_type": "display_data"
    }
   ],
   "source": [
    "plt.figure(figsize=(10,5))\n",
    "plt.plot(time_list2[1][0:-1:], history2[1],label='momentum 0.7')\n",
    "plt.plot(time_adam[0:-1:], net_adam.history,label=' Adam')\n",
    "plt.plot(time_ada[0:-1:], net_ada.history,label='Adagrad')\n",
    "plt.legend(title='strategy')\n",
    "plt.grid()\n",
    "plt.xlabel('time', fontsize=15)\n",
    "plt.ylabel('loss', fontsize=15)"
   ]
  },
  {
   "cell_type": "markdown",
   "metadata": {},
   "source": [
    "## Experiment 3"
   ]
  },
  {
   "cell_type": "code",
   "execution_count": 32,
   "metadata": {},
   "outputs": [],
   "source": [
    "import pickle"
   ]
  },
  {
   "cell_type": "code",
   "execution_count": 14,
   "metadata": {},
   "outputs": [],
   "source": [
    "import resource\n",
    "rlimit = resource.getrlimit(resource.RLIMIT_NOFILE)\n",
    "resource.setrlimit(resource.RLIMIT_NOFILE, (10000, rlimit[1]))"
   ]
  },
  {
   "cell_type": "code",
   "execution_count": 27,
   "metadata": {},
   "outputs": [],
   "source": [
    "class ConvAutoEncoder(nn.Module):\n",
    "    def __init__(self,\n",
    "                 input_size=(3,32,32),\n",
    "                 layers_num=2,\n",
    "                 conv_out_channels=(6, 6),\n",
    "                 conv_kernel_size=(2, 3),\n",
    "                 conv_stride=(2, 2),\n",
    "                 conv_padding=(0,0),\n",
    "                 pool_kernel_size=(2, 1),\n",
    "                 pool_stride=(1, 1),\n",
    "                 pool_padding=(0,0)):\n",
    "        super(ConvAutoEncoder, self).__init__()\n",
    "        self.input_size=input_size\n",
    "        self.layers_num=layers_num\n",
    "        self.conv_out_channels=conv_out_channels\n",
    "        self.conv_kernel_size=conv_kernel_size\n",
    "        self.conv_stride=conv_stride\n",
    "        self.conv_padding=conv_padding\n",
    "        self.pool_kernel_size=pool_kernel_size\n",
    "        self.pool_stride=pool_stride\n",
    "        self.pool_padding=pool_padding\n",
    "        self.conv_layers = []\n",
    "        self.conv_layers_t = []\n",
    "        self.pool_layers = []\n",
    "        self.unpool_layers = []\n",
    "        for i in range(self.layers_num):\n",
    "            in_chan = self.input_size[0] if i==0 else self.conv_out_channels[i-1]\n",
    "            args = [in_chan, self.conv_out_channels[i], \\\n",
    "                    self.conv_kernel_size[i], self.conv_stride[i], self.conv_padding[i]]\n",
    "            self.conv_layers = self.conv_layers + [nn.Conv2d(*args)]\n",
    "            args[0] = args[1]\n",
    "            args[1] = in_chan\n",
    "            self.conv_layers_t = [nn.ConvTranspose2d(*args)] + self.conv_layers_t\n",
    "            args = (self.pool_kernel_size[i], self.pool_stride[i], self.pool_padding[i])\n",
    "            self.pool_layers = self.pool_layers + [nn.MaxPool2d(*args, return_indices=True)]\n",
    "            self.unpool_layers = [nn.MaxUnpool2d(*args)] + self.unpool_layers\n",
    "        self.conv_layers = nn.ModuleList([]).extend(self.conv_layers)\n",
    "        self.conv_layers_t = nn.ModuleList([]).extend(self.conv_layers_t)\n",
    "        self.pool_layers = nn.ModuleList([]).extend(self.pool_layers)\n",
    "        self.unpool_layers = nn.ModuleList([]).extend(self.unpool_layers)\n",
    "        self.mode_fl = \"learn\" # learn or encode\n",
    "        h_out = input_size[1]\n",
    "        self.layer_out_list = [input_size[1]**2*input_size[0],(input_size[0],input_size[1],input_size[1])]\n",
    "        for i in range(self.layers_num):\n",
    "            c_out = self.conv_out_channels[i-1] if i-1>0 else self.input_size[0]\n",
    "            h_out = math.floor((h_out+2*self.conv_padding[i]-\\\n",
    "                                (self.conv_kernel_size[i]-1)-1)/self.conv_stride[i]+1)\n",
    "            h_out = math.floor((h_out+2*self.pool_padding[i]-\\\n",
    "                                (self.pool_kernel_size[i]-1)-1)/self.pool_stride[i]+1)\n",
    "            self.layer_out_list = self.layer_out_list + [h_out**2*self.conv_out_channels[i],\\\n",
    "                                                         (self.conv_out_channels[i],h_out,h_out)]\n",
    "    def forward(self,x):\n",
    "        indices_list = []\n",
    "        size_list = []\n",
    "        for i in range(self.layers_num):\n",
    "            size_list = [x.size()] + size_list \n",
    "            x = self.conv_layers[i](x)\n",
    "            x = F.relu(x)\n",
    "            x, indices = self.pool_layers[i](x)\n",
    "            indices_list = [indices] + indices_list\n",
    "        if self.mode_fl == \"encode\":\n",
    "            return x\n",
    "        for i in range(self.layers_num):\n",
    "            x = self.unpool_layers[i](x, indices_list[i])   \n",
    "            x = self.conv_layers_t[i](x, output_size=size_list[i])\n",
    "            x = F.tanh(x)  \n",
    "        return x"
   ]
  },
  {
   "cell_type": "code",
   "execution_count": 35,
   "metadata": {},
   "outputs": [
    {
     "ename": "RuntimeError",
     "evalue": "Dataset not found or corrupted. You can use download=True to download it",
     "output_type": "error",
     "traceback": [
      "\u001b[0;31m---------------------------------------------------------------------------\u001b[0m",
      "\u001b[0;31mRuntimeError\u001b[0m                              Traceback (most recent call last)",
      "\u001b[0;32m<ipython-input-35-7c2468d40175>\u001b[0m in \u001b[0;36m<module>\u001b[0;34m()\u001b[0m\n\u001b[0;32m----> 1\u001b[0;31m \u001b[0munlabeled\u001b[0m \u001b[0;34m=\u001b[0m \u001b[0mtorchvision\u001b[0m\u001b[0;34m.\u001b[0m\u001b[0mdatasets\u001b[0m\u001b[0;34m.\u001b[0m\u001b[0mSTL10\u001b[0m\u001b[0;34m(\u001b[0m\u001b[0mroot\u001b[0m\u001b[0;34m=\u001b[0m\u001b[0;34m'/media/alex/Windows8_OS/Ubuntu/python/sem_2'\u001b[0m\u001b[0;34m,\u001b[0m \u001b[0msplit\u001b[0m\u001b[0;34m=\u001b[0m\u001b[0;34m'unlabeled'\u001b[0m\u001b[0;34m,\u001b[0m                                     \u001b[0mtransform\u001b[0m\u001b[0;34m=\u001b[0m\u001b[0mtransform\u001b[0m\u001b[0;34m)\u001b[0m\u001b[0;34m\u001b[0m\u001b[0m\n\u001b[0m",
      "\u001b[0;32m/usr/local/lib/python3.5/dist-packages/torchvision/datasets/stl10.py\u001b[0m in \u001b[0;36m__init__\u001b[0;34m(self, root, split, transform, target_transform, download)\u001b[0m\n\u001b[1;32m     55\u001b[0m         \u001b[0;32mif\u001b[0m \u001b[0;32mnot\u001b[0m \u001b[0mself\u001b[0m\u001b[0;34m.\u001b[0m\u001b[0m_check_integrity\u001b[0m\u001b[0;34m(\u001b[0m\u001b[0;34m)\u001b[0m\u001b[0;34m:\u001b[0m\u001b[0;34m\u001b[0m\u001b[0m\n\u001b[1;32m     56\u001b[0m             raise RuntimeError(\n\u001b[0;32m---> 57\u001b[0;31m                 \u001b[0;34m'Dataset not found or corrupted. '\u001b[0m\u001b[0;34m\u001b[0m\u001b[0m\n\u001b[0m\u001b[1;32m     58\u001b[0m                 'You can use download=True to download it')\n\u001b[1;32m     59\u001b[0m \u001b[0;34m\u001b[0m\u001b[0m\n",
      "\u001b[0;31mRuntimeError\u001b[0m: Dataset not found or corrupted. You can use download=True to download it"
     ]
    }
   ],
   "source": [
    "unlabeled = torchvision.datasets.STL10(root='/media/alex/Windows8_OS/Ubuntu/python/sem_2', split='unlabeled',\\\n",
    "                                     transform=transform)"
   ]
  },
  {
   "cell_type": "code",
   "execution_count": 17,
   "metadata": {},
   "outputs": [],
   "source": [
    "unlabeledloader = torch.utils.data.DataLoader(unlabeled, batch_size=4,\n",
    "                                          shuffle=True, num_workers=2)"
   ]
  },
  {
   "cell_type": "code",
   "execution_count": 18,
   "metadata": {},
   "outputs": [],
   "source": [
    "def fitAutoCoder(net, epoch_num=15, trainloader=trainloader, optimizer=optim.SGD,\\\n",
    "                  weight_decay=0.1, momentum=None, lr = 0.001):\n",
    "    if momentum is not None:\n",
    "        optimizer = optimizer(net.parameters(), lr=lr, weight_decay=weight_decay, momentum=momentum)\n",
    "    else:\n",
    "        optimizer = optimizer(net.parameters(), lr=lr, weight_decay=weight_decay)\n",
    "    start = time()\n",
    "    time_list = [0]\n",
    "    for epoch in range(epoch_num):  # loop over the dataset multiple times\n",
    "\n",
    "        running_loss = 0.0\n",
    "        for i, data in enumerate(trainloader, 0):\n",
    "            # get the inputs\n",
    "            inputs, labels = data\n",
    "\n",
    "            # wrap them in Variable\n",
    "            inputs, labels = Variable(inputs), Variable(labels)\n",
    "\n",
    "            # zero the parameter gradients\n",
    "            optimizer.zero_grad()\n",
    "            # forward + backward + optimize\n",
    "            outputs = net(inputs)\n",
    "            loss = criterion(outputs, inputs)\n",
    "            loss.backward()\n",
    "            optimizer.step()"
   ]
  },
  {
   "cell_type": "code",
   "execution_count": 19,
   "metadata": {},
   "outputs": [],
   "source": [
    "criterion = nn.MSELoss()"
   ]
  },
  {
   "cell_type": "code",
   "execution_count": 61,
   "metadata": {
    "scrolled": true
   },
   "outputs": [],
   "source": [
    "auto_code_net = ConvAutoEncoder()"
   ]
  },
  {
   "cell_type": "code",
   "execution_count": 21,
   "metadata": {
    "scrolled": true
   },
   "outputs": [
    {
     "data": {
      "text/plain": [
       "[3072, (3, 32, 32), 1350, (6, 15, 15), 294, (6, 7, 7)]"
      ]
     },
     "execution_count": 21,
     "metadata": {},
     "output_type": "execute_result"
    }
   ],
   "source": [
    "auto_code_net.layer_out_list"
   ]
  },
  {
   "cell_type": "code",
   "execution_count": 62,
   "metadata": {
    "scrolled": false
   },
   "outputs": [],
   "source": [
    "fitAutoCoder(auto_code_net)"
   ]
  },
  {
   "cell_type": "code",
   "execution_count": 57,
   "metadata": {
    "scrolled": true
   },
   "outputs": [],
   "source": [
    "save_net(auto_code_net, 'auto_code_net')"
   ]
  },
  {
   "cell_type": "code",
   "execution_count": 29,
   "metadata": {},
   "outputs": [],
   "source": [
    "def save_net(net, filename):\n",
    "    f = open(filename, 'wb')\n",
    "    cache_dict = dict(net.named_children())\n",
    "    pickle.dump(cache_dict, f)\n",
    "    f.close()"
   ]
  },
  {
   "cell_type": "code",
   "execution_count": 30,
   "metadata": {},
   "outputs": [],
   "source": [
    "def load_net(net, filename):\n",
    "    f = open(filename, 'rb')\n",
    "    cache_dict = pickle.load(f)\n",
    "    for it in net.named_children():\n",
    "        if(type(cache_dict[it[0]]) == nn.ModuleList):\n",
    "            for i, modul in enumerate(cache_dict[it[0]], 0):\n",
    "                if(type(modul) != nn.MaxPool2d and type(modul) != nn.MaxUnpool2d):\n",
    "                    it[1][i].weight.data = modul.weight.data\n",
    "                    it[1][i].bias.data = modul.bias.data\n",
    "        else:\n",
    "            modul[1].weight.data = cache_dict[it[0]].weight.data\n",
    "            modul[1].bias.data = cache_dict[it[0]].bias.data\n",
    "    f.close()"
   ]
  },
  {
   "cell_type": "code",
   "execution_count": 96,
   "metadata": {},
   "outputs": [],
   "source": [
    "def MSE_counter(net, testloader=testloader):\n",
    "    coef = testloader.dataset.data.shape[0]/testloader.batch_size\n",
    "    summ = 0\n",
    "    criterion = nn.MSELoss()\n",
    "    for data in testloader:\n",
    "        images, _ = data\n",
    "        images = Variable(images)\n",
    "        #print(criterion(net(images),images).data[0])\n",
    "        summ = summ + criterion(net(images),images).data[0]\n",
    "    return summ/coef"
   ]
  },
  {
   "cell_type": "code",
   "execution_count": 97,
   "metadata": {
    "scrolled": true
   },
   "outputs": [
    {
     "data": {
      "text/plain": [
       "0.24960090845823288"
      ]
     },
     "execution_count": 97,
     "metadata": {},
     "output_type": "execute_result"
    }
   ],
   "source": [
    "MSE_counter(auto_code_net)"
   ]
  },
  {
   "cell_type": "markdown",
   "metadata": {},
   "source": [
    "#### try parameters"
   ]
  },
  {
   "cell_type": "markdown",
   "metadata": {},
   "source": [
    "|№|conv_out_channels|conv_kernel_size|conv_stride|conv_padding|pool_kernel_size|pool_stride|pool_padding|momentum|MSE|\n",
    "|--|:--:|:--:|:--:|:--:|:--:|:--:|:--:|:--:|\n",
    "|1| 6| 2| 2| 0| 2|1 | 0|0| 0.1494|\n",
    "|2| -| 3| -| -| -|-|-|-| 0.1137|\n",
    "|3!| -| 4|-|-|-|-|-|-| 0.0922|\n",
    "|4| -| 5|-|-|-|-|-|-|0.1126|\n",
    "|5| 7| 4|-|-|-|-|-|-|0.0917|\n",
    "|6| -| -|-|1|-|-|-|-|0.0705|\n",
    "|7|-|-|-|2|-|-|-|-|0.0628|\n",
    "|8|-|-|-|3|-|-|-|-|0.0570|\n",
    "|9|-|8|-|6|-|-|-|-|0.0451|\n",
    "|10|-|-|-|-|-|-|-|0.7|0.0310|\n",
    "|11|-|-|-|-|-|-|-|0.95|0.0214|"
   ]
  },
  {
   "cell_type": "markdown",
   "metadata": {},
   "source": [
    "#1"
   ]
  },
  {
   "cell_type": "code",
   "execution_count": 107,
   "metadata": {},
   "outputs": [
    {
     "data": {
      "text/plain": [
       "[3072, (3, 32, 32), 1350, (6, 15, 15)]"
      ]
     },
     "execution_count": 107,
     "metadata": {},
     "output_type": "execute_result"
    }
   ],
   "source": [
    "net.layer_out_list"
   ]
  },
  {
   "cell_type": "markdown",
   "metadata": {},
   "source": [
    "#2"
   ]
  },
  {
   "cell_type": "code",
   "execution_count": 112,
   "metadata": {
    "scrolled": false
   },
   "outputs": [
    {
     "data": {
      "text/plain": [
       "[3072, (3, 32, 32), 1176, (6, 14, 14)]"
      ]
     },
     "execution_count": 112,
     "metadata": {},
     "output_type": "execute_result"
    }
   ],
   "source": [
    "net.layer_out_list"
   ]
  },
  {
   "cell_type": "markdown",
   "metadata": {},
   "source": [
    "#3"
   ]
  },
  {
   "cell_type": "code",
   "execution_count": 117,
   "metadata": {
    "scrolled": false
   },
   "outputs": [
    {
     "data": {
      "text/plain": [
       "[3072, (3, 32, 32), 1176, (6, 14, 14)]"
      ]
     },
     "execution_count": 117,
     "metadata": {},
     "output_type": "execute_result"
    }
   ],
   "source": [
    "net.layer_out_list"
   ]
  },
  {
   "cell_type": "markdown",
   "metadata": {},
   "source": [
    "#4"
   ]
  },
  {
   "cell_type": "code",
   "execution_count": 25,
   "metadata": {},
   "outputs": [],
   "source": [
    "params = {'input_size':(3,32,32),'layers_num':1,\\\n",
    "    'conv_out_channels':(7,),'conv_kernel_size':(8,),'conv_stride':(2,),'conv_padding':(6,),\\\n",
    "                 'pool_kernel_size':(2, ),'pool_stride':(1, ),'pool_padding':(0,)}"
   ]
  },
  {
   "cell_type": "code",
   "execution_count": 28,
   "metadata": {
    "scrolled": true
   },
   "outputs": [],
   "source": [
    "net = ConvAutoEncoder(**params)"
   ]
  },
  {
   "cell_type": "code",
   "execution_count": 446,
   "metadata": {
    "scrolled": false
   },
   "outputs": [
    {
     "data": {
      "text/plain": [
       "[3072, (3, 32, 32), 2268, (7, 18, 18)]"
      ]
     },
     "execution_count": 446,
     "metadata": {},
     "output_type": "execute_result"
    }
   ],
   "source": [
    "net.layer_out_list"
   ]
  },
  {
   "cell_type": "code",
   "execution_count": 72,
   "metadata": {},
   "outputs": [
    {
     "data": {
      "text/plain": [
       "8000"
      ]
     },
     "execution_count": 72,
     "metadata": {},
     "output_type": "execute_result"
    }
   ],
   "source": [
    "testloader.dataset.data.shape[0]"
   ]
  },
  {
   "cell_type": "code",
   "execution_count": 453,
   "metadata": {},
   "outputs": [],
   "source": [
    "fitAutoCoder(net, 15, weight_decay=0.003, momentum=0.95, lr=0.0005)"
   ]
  },
  {
   "cell_type": "code",
   "execution_count": 454,
   "metadata": {},
   "outputs": [
    {
     "data": {
      "text/plain": [
       "0.01968281058827415"
      ]
     },
     "execution_count": 454,
     "metadata": {},
     "output_type": "execute_result"
    }
   ],
   "source": [
    "MSE_counter(net)"
   ]
  },
  {
   "cell_type": "code",
   "execution_count": 95,
   "metadata": {},
   "outputs": [
    {
     "data": {
      "text/plain": [
       "766.7739911041259"
      ]
     },
     "execution_count": 95,
     "metadata": {},
     "output_type": "execute_result"
    }
   ],
   "source": [
    "0.06240022714063525 * 4 * 32 * 32 * 3"
   ]
  },
  {
   "cell_type": "code",
   "execution_count": 60,
   "metadata": {
    "scrolled": true
   },
   "outputs": [
    {
     "ename": "ImportError",
     "evalue": "No module named 'garbage_collector'",
     "output_type": "error",
     "traceback": [
      "\u001b[0;31m---------------------------------------------------------------------------\u001b[0m",
      "\u001b[0;31mImportError\u001b[0m                               Traceback (most recent call last)",
      "\u001b[0;32m<ipython-input-60-efd9964b0f51>\u001b[0m in \u001b[0;36m<module>\u001b[0;34m()\u001b[0m\n\u001b[0;32m----> 1\u001b[0;31m \u001b[0;32mimport\u001b[0m \u001b[0mgarbage_collector\u001b[0m \u001b[0;32mas\u001b[0m \u001b[0mgc\u001b[0m\u001b[0;34m\u001b[0m\u001b[0m\n\u001b[0m",
      "\u001b[0;31mImportError\u001b[0m: No module named 'garbage_collector'"
     ]
    }
   ],
   "source": [
    " import garbage_collector as gc"
   ]
  },
  {
   "cell_type": "code",
   "execution_count": 455,
   "metadata": {},
   "outputs": [],
   "source": [
    "save_net(net, \"autoencoder\")"
   ]
  },
  {
   "cell_type": "code",
   "execution_count": 33,
   "metadata": {
    "scrolled": true
   },
   "outputs": [],
   "source": [
    "load_net(net, \"autoencoder\")"
   ]
  },
  {
   "cell_type": "code",
   "execution_count": 34,
   "metadata": {},
   "outputs": [
    {
     "data": {
      "text/plain": [
       "'learn'"
      ]
     },
     "execution_count": 34,
     "metadata": {},
     "output_type": "execute_result"
    }
   ],
   "source": [
    "net.mode_fl"
   ]
  },
  {
   "cell_type": "code",
   "execution_count": null,
   "metadata": {},
   "outputs": [],
   "source": [
    "\n",
    "    net()"
   ]
  },
  {
   "cell_type": "markdown",
   "metadata": {},
   "source": [
    "## Experiment 4\n"
   ]
  },
  {
   "cell_type": "code",
   "execution_count": 456,
   "metadata": {},
   "outputs": [],
   "source": [
    "net.mode_fl = 'encode'"
   ]
  },
  {
   "cell_type": "code",
   "execution_count": 461,
   "metadata": {},
   "outputs": [
    {
     "data": {
      "text/plain": [
       "[3072, (3, 32, 32), 2268, (7, 18, 18)]"
      ]
     },
     "execution_count": 461,
     "metadata": {},
     "output_type": "execute_result"
    }
   ],
   "source": [
    "net.layer_out_list"
   ]
  },
  {
   "cell_type": "code",
   "execution_count": 485,
   "metadata": {},
   "outputs": [],
   "source": [
    "params = {'input_size':(7, 18, 18),\"class_num\":10, \"layers_num\":1, \"conv_out_channels\":(13,),\\\n",
    "                \"conv_kernel_size\":(6,), \"conv_stride\":(1,), \"conv_padding\":(0,),\\\n",
    "                \"activ_func\":(), \"pool_kernel_size\":(2,), \"pool_stride\":(1,), \"pool_padding\":(0,)}"
   ]
  },
  {
   "cell_type": "code",
   "execution_count": 486,
   "metadata": {},
   "outputs": [],
   "source": [
    "simple_net = ConvNet(**params)"
   ]
  },
  {
   "cell_type": "code",
   "execution_count": 487,
   "metadata": {},
   "outputs": [
    {
     "data": {
      "text/plain": [
       "[2268, 1872]"
      ]
     },
     "execution_count": 487,
     "metadata": {},
     "output_type": "execute_result"
    }
   ],
   "source": [
    "simple_net.layer_out_list"
   ]
  },
  {
   "cell_type": "code",
   "execution_count": null,
   "metadata": {},
   "outputs": [],
   "source": []
  },
  {
   "cell_type": "code",
   "execution_count": 559,
   "metadata": {},
   "outputs": [],
   "source": [
    "def fitNetEncode(net, encoder, epoch_num=15, trainloader=trainloader, optimizer=optim.SGD, weight_decay=0.1):\n",
    "    \n",
    "    optimizer = optimizer(net.parameters(), lr=0.001, weight_decay=weight_decay)\n",
    "    criterion = nn.CrossEntropyLoss()\n",
    "    \n",
    "    for epoch in range(epoch_num):  # loop over the dataset multiple times\n",
    "\n",
    "        for i, data in enumerate(trainloader, 0):\n",
    "            # get the inputs\n",
    "            inputs, labels = data\n",
    "\n",
    "            # wrap them in Variable\n",
    "            inputs, labels = Variable(inputs), Variable(labels)\n",
    "            \n",
    "            inputs = encoder(inputs)\n",
    "\n",
    "            # zero the parameter gradients\n",
    "            optimizer.zero_grad()\n",
    "\n",
    "            # forward + backward + optimize\n",
    "            outputs = net(inputs)\n",
    "            loss = criterion(outputs, labels)\n",
    "            loss.backward()\n",
    "            optimizer.step()"
   ]
  },
  {
   "cell_type": "code",
   "execution_count": 545,
   "metadata": {},
   "outputs": [],
   "source": [
    "def accuracyEncode(net, encoder, testloader=testloader):\n",
    "    correct = 0\n",
    "    total = 0\n",
    "    for data in testloader:\n",
    "        images, labels = data\n",
    "        inputs = encoder(Variable(images))\n",
    "        outputs = net(inputs)\n",
    "        _, predicted = torch.max(outputs.data, 1)\n",
    "        total += labels.size(0)\n",
    "        correct += (predicted == labels).sum()\n",
    "\n",
    "    return 100 * correct / total"
   ]
  },
  {
   "cell_type": "code",
   "execution_count": 482,
   "metadata": {},
   "outputs": [],
   "source": [
    "fitNetEncode(simple_net, net, weight_decay=0.03)"
   ]
  },
  {
   "cell_type": "code",
   "execution_count": null,
   "metadata": {},
   "outputs": [],
   "source": []
  },
  {
   "cell_type": "code",
   "execution_count": null,
   "metadata": {},
   "outputs": [],
   "source": []
  },
  {
   "cell_type": "code",
   "execution_count": 484,
   "metadata": {},
   "outputs": [
    {
     "data": {
      "text/plain": [
       "45.7625"
      ]
     },
     "execution_count": 484,
     "metadata": {},
     "output_type": "execute_result"
    }
   ],
   "source": [
    "accuracyEncode(simple_net, net)"
   ]
  },
  {
   "cell_type": "code",
   "execution_count": 529,
   "metadata": {},
   "outputs": [],
   "source": [
    "def finderEncode(kwargsbias, encoder, param_list, param_name):\n",
    "    acc = []\n",
    "    arg = []\n",
    "    for i, par in enumerate(param_list):\n",
    "        kwargsbias[param_name] = par\n",
    "        net = ConvNet(**kwargsbias) \n",
    "        if(net.layer_out_list[0] > net.linear_in):\n",
    "            fitNetEncode(net, encoder)\n",
    "            acc = acc + [accuracyEncode(net, encoder)] \n",
    "            arg = arg + [i]\n",
    "        else:\n",
    "            acc = acc + ['st']\n",
    "            arg = arg + [i]\n",
    "    return acc, arg"
   ]
  },
  {
   "cell_type": "code",
   "execution_count": 601,
   "metadata": {},
   "outputs": [],
   "source": [
    "params = {'input_size':(7, 18, 18),\"class_num\":10, \"layers_num\":1, \"conv_out_channels\":(35,),\\\n",
    "                \"conv_kernel_size\":(6,), \"conv_stride\":(2,), \"conv_padding\":(1,),\\\n",
    "                \"activ_func\":(), \"pool_kernel_size\":(2,), \"pool_stride\":(1,), \"pool_padding\":(0,)}"
   ]
  },
  {
   "cell_type": "code",
   "execution_count": 602,
   "metadata": {},
   "outputs": [],
   "source": [
    "simple_net = ConvNet(**params)"
   ]
  },
  {
   "cell_type": "code",
   "execution_count": 603,
   "metadata": {},
   "outputs": [],
   "source": [
    "fitNetEncode(simple_net,net,30,weight_decay=0.003)"
   ]
  },
  {
   "cell_type": "code",
   "execution_count": 604,
   "metadata": {},
   "outputs": [
    {
     "data": {
      "text/plain": [
       "49.95"
      ]
     },
     "execution_count": 604,
     "metadata": {},
     "output_type": "execute_result"
    }
   ],
   "source": [
    "accuracyEncode(simple_net,net)"
   ]
  },
  {
   "cell_type": "code",
   "execution_count": 457,
   "metadata": {},
   "outputs": [],
   "source": [
    "checker = ConvAutoEncoder(**params)"
   ]
  },
  {
   "cell_type": "code",
   "execution_count": 585,
   "metadata": {
    "scrolled": false
   },
   "outputs": [
    {
     "data": {
      "text/plain": [
       "[2268, 1715]"
      ]
     },
     "execution_count": 585,
     "metadata": {},
     "output_type": "execute_result"
    }
   ],
   "source": [
    "simple_net.layer_out_list"
   ]
  },
  {
   "cell_type": "code",
   "execution_count": 543,
   "metadata": {
    "collapsed": true
   },
   "outputs": [
    {
     "data": {
      "text/plain": [
       "([45.1875,\n",
       "  46.0875,\n",
       "  45.1125,\n",
       "  45.5375,\n",
       "  45.2625,\n",
       "  45.6875,\n",
       "  46.1125,\n",
       "  44.85,\n",
       "  44.75,\n",
       "  43.6875,\n",
       "  45.7125,\n",
       "  45.1125],\n",
       " [0, 1, 2, 3, 4, 5, 6, 7, 8, 9, 10, 11])"
      ]
     },
     "execution_count": 543,
     "metadata": {},
     "output_type": "execute_result"
    }
   ],
   "source": [
    "finderEncode(params, net, [(i,) for i in range(29,41)], 'conv_out_channels')"
   ]
  },
  {
   "cell_type": "code",
   "execution_count": 532,
   "metadata": {},
   "outputs": [
    {
     "data": {
      "text/plain": [
       "[(5,), (9,), (13,), (17,), (21,), (25,), (29,), (33,), (37,)]"
      ]
     },
     "execution_count": 532,
     "metadata": {},
     "output_type": "execute_result"
    }
   ],
   "source": [
    "[(i,) for i in range(5,40,4)]"
   ]
  },
  {
   "cell_type": "code",
   "execution_count": 546,
   "metadata": {
    "scrolled": true
   },
   "outputs": [
    {
     "data": {
      "text/plain": [
       "[(29,),\n",
       " (30,),\n",
       " (31,),\n",
       " (32,),\n",
       " (33,),\n",
       " (34,),\n",
       " (35,),\n",
       " (36,),\n",
       " (37,),\n",
       " (38,),\n",
       " (39,),\n",
       " (40,)]"
      ]
     },
     "execution_count": 546,
     "metadata": {},
     "output_type": "execute_result"
    }
   ],
   "source": [
    "[(i,) for i in range(29,41)]"
   ]
  },
  {
   "cell_type": "code",
   "execution_count": 458,
   "metadata": {},
   "outputs": [],
   "source": [
    "load_net(checker, \"autoencoder\")"
   ]
  },
  {
   "cell_type": "code",
   "execution_count": null,
   "metadata": {},
   "outputs": [],
   "source": [
    "layer_slayer_encoder(params, [i for i in range(5,40,4)], 'conv_out_channels', net)"
   ]
  },
  {
   "cell_type": "code",
   "execution_count": 675,
   "metadata": {
    "scrolled": true
   },
   "outputs": [
    {
     "data": {
      "text/plain": [
       "'encode'"
      ]
     },
     "execution_count": 675,
     "metadata": {},
     "output_type": "execute_result"
    }
   ],
   "source": [
    "net.mode_fl"
   ]
  },
  {
   "cell_type": "code",
   "execution_count": 704,
   "metadata": {},
   "outputs": [
    {
     "name": "stdout",
     "output_type": "stream",
     "text": [
      "(5000, 2268)\n"
     ]
    }
   ],
   "source": [
    "X = np.zeros((1,7*18*18))\n",
    "y = np.array(trainset[0][1])\n",
    "\n",
    "for data in trainloader:\n",
    "    images, labels = data\n",
    "    images = net(Variable(images)).data.numpy()\n",
    "    for i in range(4):\n",
    "        X = np.vstack((X, images[i].ravel()))\n",
    "        y = np.vstack((y,np.array(labels[i])))\n",
    "\n",
    "X = X[1::]\n",
    "y = y[1::]\n",
    "\n",
    "print(X.shape)\n"
   ]
  },
  {
   "cell_type": "code",
   "execution_count": 705,
   "metadata": {},
   "outputs": [],
   "source": [
    "X,y = sklearn.utils.shuffle(X,y)\n",
    "\n",
    "y = y.ravel()"
   ]
  },
  {
   "cell_type": "code",
   "execution_count": 706,
   "metadata": {},
   "outputs": [],
   "source": [
    "rfclf = RandomForestClassifier(1000,n_jobs=-1)"
   ]
  },
  {
   "cell_type": "code",
   "execution_count": 707,
   "metadata": {},
   "outputs": [
    {
     "data": {
      "text/plain": [
       "RandomForestClassifier(bootstrap=True, class_weight=None, criterion='gini',\n",
       "            max_depth=None, max_features='auto', max_leaf_nodes=None,\n",
       "            min_impurity_decrease=0.0, min_impurity_split=None,\n",
       "            min_samples_leaf=1, min_samples_split=2,\n",
       "            min_weight_fraction_leaf=0.0, n_estimators=1000, n_jobs=-1,\n",
       "            oob_score=False, random_state=None, verbose=0,\n",
       "            warm_start=False)"
      ]
     },
     "execution_count": 707,
     "metadata": {},
     "output_type": "execute_result"
    }
   ],
   "source": [
    "rfclf.fit(X, y)"
   ]
  },
  {
   "cell_type": "code",
   "execution_count": 708,
   "metadata": {},
   "outputs": [
    {
     "name": "stdout",
     "output_type": "stream",
     "text": [
      "(8000, 2268)\n"
     ]
    }
   ],
   "source": [
    "X_test = np.zeros((1,7*18*18))\n",
    "y_test = np.array(testset[0][1])\n",
    "\n",
    "for data in testloader:\n",
    "    images, labels = data\n",
    "    images = net(Variable(images)).data.numpy()\n",
    "    for i in range(4):\n",
    "        X_test = np.vstack((X_test, images[i].ravel()))\n",
    "        y_test = np.vstack((y_test,np.array(labels[i])))\n",
    "\n",
    "X_test = X_test[1::]\n",
    "y_test = y_test[1::]\n",
    "\n",
    "print(X_test.shape)"
   ]
  },
  {
   "cell_type": "code",
   "execution_count": 711,
   "metadata": {},
   "outputs": [
    {
     "data": {
      "text/plain": [
       "(5000, 2268)"
      ]
     },
     "execution_count": 711,
     "metadata": {},
     "output_type": "execute_result"
    }
   ],
   "source": [
    "X.shape"
   ]
  },
  {
   "cell_type": "code",
   "execution_count": 709,
   "metadata": {},
   "outputs": [],
   "source": [
    "y_pred = rfclf.predict(X_test)"
   ]
  },
  {
   "cell_type": "code",
   "execution_count": 724,
   "metadata": {},
   "outputs": [
    {
     "data": {
      "text/plain": [
       "(8000,)"
      ]
     },
     "execution_count": 724,
     "metadata": {},
     "output_type": "execute_result"
    }
   ],
   "source": [
    "y_test.ravel().shape"
   ]
  },
  {
   "cell_type": "code",
   "execution_count": 725,
   "metadata": {},
   "outputs": [
    {
     "data": {
      "text/plain": [
       "0.48375"
      ]
     },
     "execution_count": 725,
     "metadata": {},
     "output_type": "execute_result"
    }
   ],
   "source": [
    "(y_test.ravel() == y_pred).sum()/y_test.shape[0]"
   ]
  },
  {
   "cell_type": "markdown",
   "metadata": {},
   "source": [
    "## Experiment 5"
   ]
  },
  {
   "cell_type": "code",
   "execution_count": 658,
   "metadata": {},
   "outputs": [],
   "source": [
    "params = {'input_size':(3,32,32),\"class_num\":10,'layers_num':2,\\\n",
    "    'conv_out_channels':[7,35],'conv_kernel_size':(8,6),'conv_stride':(2,2),'conv_padding':(6,1),\\\n",
    "                 \"activ_func\":(), 'pool_kernel_size':(2,2),'pool_stride':(1, 1),'pool_padding':(0,0)}"
   ]
  },
  {
   "cell_type": "code",
   "execution_count": 650,
   "metadata": {},
   "outputs": [],
   "source": [
    "fine_net = ConvNet(**params)"
   ]
  },
  {
   "cell_type": "code",
   "execution_count": 651,
   "metadata": {},
   "outputs": [
    {
     "data": {
      "text/plain": [
       "[3072, 2268, 1715]"
      ]
     },
     "execution_count": 651,
     "metadata": {},
     "output_type": "execute_result"
    }
   ],
   "source": [
    "fine_net.layer_out_list"
   ]
  },
  {
   "cell_type": "code",
   "execution_count": 652,
   "metadata": {},
   "outputs": [],
   "source": [
    "fine_net.conv_layers[0].weight.data = net.conv_layers[0].weight.data"
   ]
  },
  {
   "cell_type": "code",
   "execution_count": 653,
   "metadata": {},
   "outputs": [],
   "source": [
    "fine_net.conv_layers[0].bias.data = net.conv_layers[0].bias.data"
   ]
  },
  {
   "cell_type": "code",
   "execution_count": 654,
   "metadata": {
    "scrolled": true
   },
   "outputs": [],
   "source": [
    "fitNet(fine_net, 20, weight_decay=0.003)"
   ]
  },
  {
   "cell_type": "code",
   "execution_count": 655,
   "metadata": {},
   "outputs": [
    {
     "data": {
      "text/plain": [
       "50.575"
      ]
     },
     "execution_count": 655,
     "metadata": {},
     "output_type": "execute_result"
    }
   ],
   "source": [
    "accuracy(fine_net)"
   ]
  },
  {
   "cell_type": "code",
   "execution_count": 666,
   "metadata": {},
   "outputs": [],
   "source": [
    "def layer_slayer_encoder(kwargsbias, param_list, param_name, encoder):\n",
    "    acc = []\n",
    "    arg = []\n",
    "    for i, par in enumerate(param_list):\n",
    "        kwargsbias[param_name][-1] = par\n",
    "        net = ConvNet(**kwargsbias)\n",
    "        net.conv_layers[0].weight.data = encoder.conv_layers[0].weight.data\n",
    "        net.conv_layers[0].bias.data = encoder.conv_layers[0].bias.data\n",
    "        print(net.layer_out_list)\n",
    "        print(f(net.layer_out_list))\n",
    "        if(f(net.layer_out_list)):\n",
    "            fitNet(net, 20, weight_decay=0.003)\n",
    "            acc = acc + [accuracy(net)] \n",
    "            arg = arg + [par]\n",
    "        else:\n",
    "            acc = acc + ['st']\n",
    "            arg = arg + [par]\n",
    "    return acc, arg"
   ]
  },
  {
   "cell_type": "code",
   "execution_count": 667,
   "metadata": {
    "scrolled": false
   },
   "outputs": [
    {
     "name": "stdout",
     "output_type": "stream",
     "text": [
      "[3072, 2268, 245]\n",
      "True\n",
      "[3072, 2268, 441]\n",
      "True\n",
      "[3072, 2268, 637]\n",
      "True\n",
      "[3072, 2268, 833]\n",
      "True\n",
      "[3072, 2268, 1029]\n",
      "True\n",
      "[3072, 2268, 1225]\n",
      "True\n",
      "[3072, 2268, 1421]\n",
      "True\n",
      "[3072, 2268, 1617]\n",
      "True\n",
      "[3072, 2268, 1813]\n",
      "True\n"
     ]
    },
    {
     "data": {
      "text/plain": [
       "([49.6625, 50.15, 51.2, 51.6125, 51.9875, 51.5, 50.7125, 50.4625, 51.7125],\n",
       " [5, 9, 13, 17, 21, 25, 29, 33, 37])"
      ]
     },
     "execution_count": 667,
     "metadata": {},
     "output_type": "execute_result"
    }
   ],
   "source": [
    "layer_slayer_encoder(params, [i for i in range(5,40,4)], 'conv_out_channels', net)"
   ]
  },
  {
   "cell_type": "code",
   "execution_count": 668,
   "metadata": {},
   "outputs": [
    {
     "name": "stdout",
     "output_type": "stream",
     "text": [
      "[3072, 2268, 882]\n",
      "True\n",
      "[3072, 2268, 931]\n",
      "True\n",
      "[3072, 2268, 980]\n",
      "True\n",
      "[3072, 2268, 1029]\n",
      "True\n",
      "[3072, 2268, 1078]\n",
      "True\n",
      "[3072, 2268, 1127]\n",
      "True\n",
      "[3072, 2268, 1176]\n",
      "True\n"
     ]
    },
    {
     "data": {
      "text/plain": [
       "([50.7, 50.6375, 51.55, 50.5125, 50.6, 49.7125, 51.0],\n",
       " [18, 19, 20, 21, 22, 23, 24])"
      ]
     },
     "execution_count": 668,
     "metadata": {},
     "output_type": "execute_result"
    }
   ],
   "source": [
    "layer_slayer_encoder(params, [i for i in range(18,25,1)], 'conv_out_channels', net)"
   ]
  },
  {
   "cell_type": "code",
   "execution_count": null,
   "metadata": {},
   "outputs": [],
   "source": []
  },
  {
   "cell_type": "code",
   "execution_count": 629,
   "metadata": {},
   "outputs": [
    {
     "data": {
      "text/plain": [
       "49.95"
      ]
     },
     "execution_count": 629,
     "metadata": {},
     "output_type": "execute_result"
    }
   ],
   "source": [
    "accuracyEncode(fine_net,net)"
   ]
  },
  {
   "cell_type": "code",
   "execution_count": 628,
   "metadata": {},
   "outputs": [],
   "source": [
    "fine_net.linear_layer.bias.data = simple_net.linear_layer.bias.data"
   ]
  },
  {
   "cell_type": "code",
   "execution_count": 627,
   "metadata": {},
   "outputs": [],
   "source": [
    "fine_net.conv_layers[0].bias.data = simple_net.conv_layers[0].bias.data"
   ]
  },
  {
   "cell_type": "code",
   "execution_count": 626,
   "metadata": {},
   "outputs": [],
   "source": [
    "fine_net.linear_layer.weight.data = simple_net.linear_layer.weight.data"
   ]
  },
  {
   "cell_type": "code",
   "execution_count": 623,
   "metadata": {
    "scrolled": true
   },
   "outputs": [],
   "source": [
    "fine_net.conv_layers[0].weight.data = simple_net.conv_layers[0].weight.data"
   ]
  },
  {
   "cell_type": "code",
   "execution_count": 614,
   "metadata": {},
   "outputs": [
    {
     "name": "stdout",
     "output_type": "stream",
     "text": [
      "conv_layers\n",
      "pool_layers\n",
      "linear_layer\n"
     ]
    }
   ],
   "source": [
    "for name, mod in fine_net.named_children():\n",
    "    print(name)"
   ]
  },
  {
   "cell_type": "code",
   "execution_count": 621,
   "metadata": {},
   "outputs": [],
   "source": [
    "params = {'input_size':(7, 18, 18),\"class_num\":10, \"layers_num\":1, \"conv_out_channels\":(35,),\\\n",
    "                \"conv_kernel_size\":(6,), \"conv_stride\":(2,), \"conv_padding\":(1,),\\\n",
    "                \"activ_func\":(), \"pool_kernel_size\":(2,), \"pool_stride\":(1,), \"pool_padding\":(0,)}"
   ]
  },
  {
   "cell_type": "code",
   "execution_count": 619,
   "metadata": {
    "scrolled": true
   },
   "outputs": [
    {
     "ename": "AttributeError",
     "evalue": "'ConvNet' object has no attribute 'conv_layers_t'",
     "output_type": "error",
     "traceback": [
      "\u001b[0;31m---------------------------------------------------------------------------\u001b[0m",
      "\u001b[0;31mAttributeError\u001b[0m                            Traceback (most recent call last)",
      "\u001b[0;32m<ipython-input-619-09e006113ff6>\u001b[0m in \u001b[0;36m<module>\u001b[0;34m()\u001b[0m\n\u001b[0;32m----> 1\u001b[0;31m \u001b[0mfine_net\u001b[0m\u001b[0;34m.\u001b[0m\u001b[0mconv_layers_t\u001b[0m\u001b[0;34m[\u001b[0m\u001b[0;36m0\u001b[0m\u001b[0;34m]\u001b[0m\u001b[0;34m.\u001b[0m\u001b[0mweight\u001b[0m\u001b[0;34m.\u001b[0m\u001b[0mdata\u001b[0m \u001b[0;34m=\u001b[0m \u001b[0mnet\u001b[0m\u001b[0;34m.\u001b[0m\u001b[0mconv_layers_t\u001b[0m\u001b[0;34m[\u001b[0m\u001b[0;36m0\u001b[0m\u001b[0;34m]\u001b[0m\u001b[0;34m.\u001b[0m\u001b[0mweight\u001b[0m\u001b[0;34m.\u001b[0m\u001b[0mdata\u001b[0m\u001b[0;34m\u001b[0m\u001b[0m\n\u001b[0m",
      "\u001b[0;32m/usr/local/lib/python3.5/dist-packages/torch/nn/modules/module.py\u001b[0m in \u001b[0;36m__getattr__\u001b[0;34m(self, name)\u001b[0m\n\u001b[1;32m    364\u001b[0m                 \u001b[0;32mreturn\u001b[0m \u001b[0mmodules\u001b[0m\u001b[0;34m[\u001b[0m\u001b[0mname\u001b[0m\u001b[0;34m]\u001b[0m\u001b[0;34m\u001b[0m\u001b[0m\n\u001b[1;32m    365\u001b[0m         raise AttributeError(\"'{}' object has no attribute '{}'\".format(\n\u001b[0;32m--> 366\u001b[0;31m             type(self).__name__, name))\n\u001b[0m\u001b[1;32m    367\u001b[0m \u001b[0;34m\u001b[0m\u001b[0m\n\u001b[1;32m    368\u001b[0m     \u001b[0;32mdef\u001b[0m \u001b[0m__setattr__\u001b[0m\u001b[0;34m(\u001b[0m\u001b[0mself\u001b[0m\u001b[0;34m,\u001b[0m \u001b[0mname\u001b[0m\u001b[0;34m,\u001b[0m \u001b[0mvalue\u001b[0m\u001b[0;34m)\u001b[0m\u001b[0;34m:\u001b[0m\u001b[0;34m\u001b[0m\u001b[0m\n",
      "\u001b[0;31mAttributeError\u001b[0m: 'ConvNet' object has no attribute 'conv_layers_t'"
     ]
    }
   ],
   "source": [
    "fine_net.conv_layers_t[0].weight.data = net.conv_layers_t[0].weight.data"
   ]
  },
  {
   "cell_type": "code",
   "execution_count": 526,
   "metadata": {
    "scrolled": true
   },
   "outputs": [
    {
     "ename": "RuntimeError",
     "evalue": "Given groups=1, weight[5, 7, 6, 6], so expected input[4, 3, 32, 32] to have 7 channels, but got 3 channels instead",
     "output_type": "error",
     "traceback": [
      "\u001b[0;31m---------------------------------------------------------------------------\u001b[0m",
      "\u001b[0;31mRuntimeError\u001b[0m                              Traceback (most recent call last)",
      "\u001b[0;32m<ipython-input-526-ffee3f54de4b>\u001b[0m in \u001b[0;36m<module>\u001b[0;34m()\u001b[0m\n\u001b[0;32m----> 1\u001b[0;31m \u001b[0mfitNetEncode\u001b[0m\u001b[0;34m(\u001b[0m\u001b[0msimple_net\u001b[0m\u001b[0;34m,\u001b[0m \u001b[0mauto_code_net\u001b[0m\u001b[0;34m)\u001b[0m\u001b[0;34m\u001b[0m\u001b[0m\n\u001b[0m",
      "\u001b[0;32m<ipython-input-481-dbd2aab56d96>\u001b[0m in \u001b[0;36mfitNetEncode\u001b[0;34m(net, encoder, epoch_num, trainloader, optimizer, weight_decay)\u001b[0m\n\u001b[1;32m     19\u001b[0m \u001b[0;34m\u001b[0m\u001b[0m\n\u001b[1;32m     20\u001b[0m             \u001b[0;31m# forward + backward + optimize\u001b[0m\u001b[0;34m\u001b[0m\u001b[0;34m\u001b[0m\u001b[0m\n\u001b[0;32m---> 21\u001b[0;31m             \u001b[0moutputs\u001b[0m \u001b[0;34m=\u001b[0m \u001b[0mnet\u001b[0m\u001b[0;34m(\u001b[0m\u001b[0minputs\u001b[0m\u001b[0;34m)\u001b[0m\u001b[0;34m\u001b[0m\u001b[0m\n\u001b[0m\u001b[1;32m     22\u001b[0m             \u001b[0mloss\u001b[0m \u001b[0;34m=\u001b[0m \u001b[0mcriterion\u001b[0m\u001b[0;34m(\u001b[0m\u001b[0moutputs\u001b[0m\u001b[0;34m,\u001b[0m \u001b[0mlabels\u001b[0m\u001b[0;34m)\u001b[0m\u001b[0;34m\u001b[0m\u001b[0m\n\u001b[1;32m     23\u001b[0m             \u001b[0mloss\u001b[0m\u001b[0;34m.\u001b[0m\u001b[0mbackward\u001b[0m\u001b[0;34m(\u001b[0m\u001b[0;34m)\u001b[0m\u001b[0;34m\u001b[0m\u001b[0m\n",
      "\u001b[0;32m/usr/local/lib/python3.5/dist-packages/torch/nn/modules/module.py\u001b[0m in \u001b[0;36m__call__\u001b[0;34m(self, *input, **kwargs)\u001b[0m\n\u001b[1;32m    323\u001b[0m         \u001b[0;32mfor\u001b[0m \u001b[0mhook\u001b[0m \u001b[0;32min\u001b[0m \u001b[0mself\u001b[0m\u001b[0;34m.\u001b[0m\u001b[0m_forward_pre_hooks\u001b[0m\u001b[0;34m.\u001b[0m\u001b[0mvalues\u001b[0m\u001b[0;34m(\u001b[0m\u001b[0;34m)\u001b[0m\u001b[0;34m:\u001b[0m\u001b[0;34m\u001b[0m\u001b[0m\n\u001b[1;32m    324\u001b[0m             \u001b[0mhook\u001b[0m\u001b[0;34m(\u001b[0m\u001b[0mself\u001b[0m\u001b[0;34m,\u001b[0m \u001b[0minput\u001b[0m\u001b[0;34m)\u001b[0m\u001b[0;34m\u001b[0m\u001b[0m\n\u001b[0;32m--> 325\u001b[0;31m         \u001b[0mresult\u001b[0m \u001b[0;34m=\u001b[0m \u001b[0mself\u001b[0m\u001b[0;34m.\u001b[0m\u001b[0mforward\u001b[0m\u001b[0;34m(\u001b[0m\u001b[0;34m*\u001b[0m\u001b[0minput\u001b[0m\u001b[0;34m,\u001b[0m \u001b[0;34m**\u001b[0m\u001b[0mkwargs\u001b[0m\u001b[0;34m)\u001b[0m\u001b[0;34m\u001b[0m\u001b[0m\n\u001b[0m\u001b[1;32m    326\u001b[0m         \u001b[0;32mfor\u001b[0m \u001b[0mhook\u001b[0m \u001b[0;32min\u001b[0m \u001b[0mself\u001b[0m\u001b[0;34m.\u001b[0m\u001b[0m_forward_hooks\u001b[0m\u001b[0;34m.\u001b[0m\u001b[0mvalues\u001b[0m\u001b[0;34m(\u001b[0m\u001b[0;34m)\u001b[0m\u001b[0;34m:\u001b[0m\u001b[0;34m\u001b[0m\u001b[0m\n\u001b[1;32m    327\u001b[0m             \u001b[0mhook_result\u001b[0m \u001b[0;34m=\u001b[0m \u001b[0mhook\u001b[0m\u001b[0;34m(\u001b[0m\u001b[0mself\u001b[0m\u001b[0;34m,\u001b[0m \u001b[0minput\u001b[0m\u001b[0;34m,\u001b[0m \u001b[0mresult\u001b[0m\u001b[0;34m)\u001b[0m\u001b[0;34m\u001b[0m\u001b[0m\n",
      "\u001b[0;32m<ipython-input-4-a8074aecfbbb>\u001b[0m in \u001b[0;36mforward\u001b[0;34m(self, x)\u001b[0m\n\u001b[1;32m     48\u001b[0m     \u001b[0;32mdef\u001b[0m \u001b[0mforward\u001b[0m\u001b[0;34m(\u001b[0m\u001b[0mself\u001b[0m\u001b[0;34m,\u001b[0m\u001b[0mx\u001b[0m\u001b[0;34m)\u001b[0m\u001b[0;34m:\u001b[0m\u001b[0;34m\u001b[0m\u001b[0m\n\u001b[1;32m     49\u001b[0m         \u001b[0;32mfor\u001b[0m \u001b[0mi\u001b[0m \u001b[0;32min\u001b[0m \u001b[0mrange\u001b[0m\u001b[0;34m(\u001b[0m\u001b[0mself\u001b[0m\u001b[0;34m.\u001b[0m\u001b[0mlayers_num\u001b[0m\u001b[0;34m)\u001b[0m\u001b[0;34m:\u001b[0m\u001b[0;34m\u001b[0m\u001b[0m\n\u001b[0;32m---> 50\u001b[0;31m             \u001b[0mx\u001b[0m \u001b[0;34m=\u001b[0m \u001b[0mself\u001b[0m\u001b[0;34m.\u001b[0m\u001b[0mconv_layers\u001b[0m\u001b[0;34m[\u001b[0m\u001b[0mi\u001b[0m\u001b[0;34m]\u001b[0m\u001b[0;34m(\u001b[0m\u001b[0mx\u001b[0m\u001b[0;34m)\u001b[0m\u001b[0;34m\u001b[0m\u001b[0m\n\u001b[0m\u001b[1;32m     51\u001b[0m             \u001b[0;32mif\u001b[0m \u001b[0mself\u001b[0m\u001b[0;34m.\u001b[0m\u001b[0mactiv_func\u001b[0m\u001b[0;34m:\u001b[0m\u001b[0;34m\u001b[0m\u001b[0m\n\u001b[1;32m     52\u001b[0m                 \u001b[0mx\u001b[0m \u001b[0;34m=\u001b[0m \u001b[0mself\u001b[0m\u001b[0;34m.\u001b[0m\u001b[0mactiv_func\u001b[0m\u001b[0;34m[\u001b[0m\u001b[0mi\u001b[0m\u001b[0;34m]\u001b[0m\u001b[0;34m(\u001b[0m\u001b[0mx\u001b[0m\u001b[0;34m)\u001b[0m\u001b[0;34m\u001b[0m\u001b[0m\n",
      "\u001b[0;32m/usr/local/lib/python3.5/dist-packages/torch/nn/modules/module.py\u001b[0m in \u001b[0;36m__call__\u001b[0;34m(self, *input, **kwargs)\u001b[0m\n\u001b[1;32m    323\u001b[0m         \u001b[0;32mfor\u001b[0m \u001b[0mhook\u001b[0m \u001b[0;32min\u001b[0m \u001b[0mself\u001b[0m\u001b[0;34m.\u001b[0m\u001b[0m_forward_pre_hooks\u001b[0m\u001b[0;34m.\u001b[0m\u001b[0mvalues\u001b[0m\u001b[0;34m(\u001b[0m\u001b[0;34m)\u001b[0m\u001b[0;34m:\u001b[0m\u001b[0;34m\u001b[0m\u001b[0m\n\u001b[1;32m    324\u001b[0m             \u001b[0mhook\u001b[0m\u001b[0;34m(\u001b[0m\u001b[0mself\u001b[0m\u001b[0;34m,\u001b[0m \u001b[0minput\u001b[0m\u001b[0;34m)\u001b[0m\u001b[0;34m\u001b[0m\u001b[0m\n\u001b[0;32m--> 325\u001b[0;31m         \u001b[0mresult\u001b[0m \u001b[0;34m=\u001b[0m \u001b[0mself\u001b[0m\u001b[0;34m.\u001b[0m\u001b[0mforward\u001b[0m\u001b[0;34m(\u001b[0m\u001b[0;34m*\u001b[0m\u001b[0minput\u001b[0m\u001b[0;34m,\u001b[0m \u001b[0;34m**\u001b[0m\u001b[0mkwargs\u001b[0m\u001b[0;34m)\u001b[0m\u001b[0;34m\u001b[0m\u001b[0m\n\u001b[0m\u001b[1;32m    326\u001b[0m         \u001b[0;32mfor\u001b[0m \u001b[0mhook\u001b[0m \u001b[0;32min\u001b[0m \u001b[0mself\u001b[0m\u001b[0;34m.\u001b[0m\u001b[0m_forward_hooks\u001b[0m\u001b[0;34m.\u001b[0m\u001b[0mvalues\u001b[0m\u001b[0;34m(\u001b[0m\u001b[0;34m)\u001b[0m\u001b[0;34m:\u001b[0m\u001b[0;34m\u001b[0m\u001b[0m\n\u001b[1;32m    327\u001b[0m             \u001b[0mhook_result\u001b[0m \u001b[0;34m=\u001b[0m \u001b[0mhook\u001b[0m\u001b[0;34m(\u001b[0m\u001b[0mself\u001b[0m\u001b[0;34m,\u001b[0m \u001b[0minput\u001b[0m\u001b[0;34m,\u001b[0m \u001b[0mresult\u001b[0m\u001b[0;34m)\u001b[0m\u001b[0;34m\u001b[0m\u001b[0m\n",
      "\u001b[0;32m/usr/local/lib/python3.5/dist-packages/torch/nn/modules/conv.py\u001b[0m in \u001b[0;36mforward\u001b[0;34m(self, input)\u001b[0m\n\u001b[1;32m    275\u001b[0m     \u001b[0;32mdef\u001b[0m \u001b[0mforward\u001b[0m\u001b[0;34m(\u001b[0m\u001b[0mself\u001b[0m\u001b[0;34m,\u001b[0m \u001b[0minput\u001b[0m\u001b[0;34m)\u001b[0m\u001b[0;34m:\u001b[0m\u001b[0;34m\u001b[0m\u001b[0m\n\u001b[1;32m    276\u001b[0m         return F.conv2d(input, self.weight, self.bias, self.stride,\n\u001b[0;32m--> 277\u001b[0;31m                         self.padding, self.dilation, self.groups)\n\u001b[0m\u001b[1;32m    278\u001b[0m \u001b[0;34m\u001b[0m\u001b[0m\n\u001b[1;32m    279\u001b[0m \u001b[0;34m\u001b[0m\u001b[0m\n",
      "\u001b[0;32m/usr/local/lib/python3.5/dist-packages/torch/nn/functional.py\u001b[0m in \u001b[0;36mconv2d\u001b[0;34m(input, weight, bias, stride, padding, dilation, groups)\u001b[0m\n\u001b[1;32m     88\u001b[0m                 \u001b[0m_pair\u001b[0m\u001b[0;34m(\u001b[0m\u001b[0;36m0\u001b[0m\u001b[0;34m)\u001b[0m\u001b[0;34m,\u001b[0m \u001b[0mgroups\u001b[0m\u001b[0;34m,\u001b[0m \u001b[0mtorch\u001b[0m\u001b[0;34m.\u001b[0m\u001b[0mbackends\u001b[0m\u001b[0;34m.\u001b[0m\u001b[0mcudnn\u001b[0m\u001b[0;34m.\u001b[0m\u001b[0mbenchmark\u001b[0m\u001b[0;34m,\u001b[0m\u001b[0;34m\u001b[0m\u001b[0m\n\u001b[1;32m     89\u001b[0m                 torch.backends.cudnn.deterministic, torch.backends.cudnn.enabled)\n\u001b[0;32m---> 90\u001b[0;31m     \u001b[0;32mreturn\u001b[0m \u001b[0mf\u001b[0m\u001b[0;34m(\u001b[0m\u001b[0minput\u001b[0m\u001b[0;34m,\u001b[0m \u001b[0mweight\u001b[0m\u001b[0;34m,\u001b[0m \u001b[0mbias\u001b[0m\u001b[0;34m)\u001b[0m\u001b[0;34m\u001b[0m\u001b[0m\n\u001b[0m\u001b[1;32m     91\u001b[0m \u001b[0;34m\u001b[0m\u001b[0m\n\u001b[1;32m     92\u001b[0m \u001b[0;34m\u001b[0m\u001b[0m\n",
      "\u001b[0;31mRuntimeError\u001b[0m: Given groups=1, weight[5, 7, 6, 6], so expected input[4, 3, 32, 32] to have 7 channels, but got 3 channels instead"
     ]
    }
   ],
   "source": [
    "fitNetEncode(simple_net, auto_code_net)"
   ]
  },
  {
   "cell_type": "code",
   "execution_count": 459,
   "metadata": {
    "scrolled": false
   },
   "outputs": [
    {
     "data": {
      "text/plain": [
       "0.019682810646947473"
      ]
     },
     "execution_count": 459,
     "metadata": {},
     "output_type": "execute_result"
    }
   ],
   "source": [
    "MSE_counter(checker)"
   ]
  },
  {
   "cell_type": "code",
   "execution_count": null,
   "metadata": {},
   "outputs": [],
   "source": []
  }
 ],
 "metadata": {
  "kernelspec": {
   "display_name": "Python 3",
   "language": "python",
   "name": "python3"
  },
  "language_info": {
   "codemirror_mode": {
    "name": "ipython",
    "version": 3
   },
   "file_extension": ".py",
   "mimetype": "text/x-python",
   "name": "python",
   "nbconvert_exporter": "python",
   "pygments_lexer": "ipython3",
   "version": "3.5.2"
  }
 },
 "nbformat": 4,
 "nbformat_minor": 2
}
